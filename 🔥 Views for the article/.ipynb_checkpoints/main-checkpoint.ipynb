{
 "cells": [
  {
   "cell_type": "code",
   "execution_count": 1,
   "metadata": {},
   "outputs": [],
   "source": [
    "import numpy as np\n",
    "import matplotlib.pyplot as plt\n",
    "import pandas as pd\n",
    "import dateutil\n",
    "from dateutil.parser import parse\n",
    "import csv"
   ]
  },
  {
   "cell_type": "code",
   "execution_count": 2,
   "metadata": {
    "scrolled": true
   },
   "outputs": [
    {
     "data": {
      "text/html": [
       "<div>\n",
       "<style scoped>\n",
       "    .dataframe tbody tr th:only-of-type {\n",
       "        vertical-align: middle;\n",
       "    }\n",
       "\n",
       "    .dataframe tbody tr th {\n",
       "        vertical-align: top;\n",
       "    }\n",
       "\n",
       "    .dataframe thead th {\n",
       "        text-align: right;\n",
       "    }\n",
       "</style>\n",
       "<table border=\"1\" class=\"dataframe\">\n",
       "  <thead>\n",
       "    <tr style=\"text-align: right;\">\n",
       "      <th></th>\n",
       "      <th>id_str</th>\n",
       "      <th>screen_name</th>\n",
       "      <th>created_at</th>\n",
       "      <th>latitude</th>\n",
       "      <th>longitude</th>\n",
       "      <th>text</th>\n",
       "    </tr>\n",
       "  </thead>\n",
       "  <tbody>\n",
       "    <tr>\n",
       "      <th>0</th>\n",
       "      <td>29292924</td>\n",
       "      <td>queeraspoetry</td>\n",
       "      <td>2018-05-06</td>\n",
       "      <td>19.560340</td>\n",
       "      <td>-154.986600</td>\n",
       "      <td>Good am! 🤙🌋 @ Center for Spiritual Living in H...</td>\n",
       "    </tr>\n",
       "    <tr>\n",
       "      <th>1</th>\n",
       "      <td>414227956</td>\n",
       "      <td>NaomiCooper808</td>\n",
       "      <td>2018-05-06</td>\n",
       "      <td>20.020278</td>\n",
       "      <td>-155.667778</td>\n",
       "      <td>#vacay #Ladat @ Waimea, Hawaii County, Hawai</td>\n",
       "    </tr>\n",
       "    <tr>\n",
       "      <th>2</th>\n",
       "      <td>20112512</td>\n",
       "      <td>vioart527</td>\n",
       "      <td>2018-05-06</td>\n",
       "      <td>19.650000</td>\n",
       "      <td>-155.994000</td>\n",
       "      <td>Last sunset in Hawaii . . . until next time,</td>\n",
       "    </tr>\n",
       "    <tr>\n",
       "      <th>3</th>\n",
       "      <td>18645703</td>\n",
       "      <td>syvideo</td>\n",
       "      <td>2018-05-06</td>\n",
       "      <td>19.473500</td>\n",
       "      <td>-154.920000</td>\n",
       "      <td>Adventures of covering lava flow on Hilo, HI. ...</td>\n",
       "    </tr>\n",
       "    <tr>\n",
       "      <th>4</th>\n",
       "      <td>18829708</td>\n",
       "      <td>rodney_o</td>\n",
       "      <td>2018-05-06</td>\n",
       "      <td>19.204109</td>\n",
       "      <td>-155.479005</td>\n",
       "      <td>Breakfast in Pahala. Leftovers and @rustyshawa...</td>\n",
       "    </tr>\n",
       "  </tbody>\n",
       "</table>\n",
       "</div>"
      ],
      "text/plain": [
       "      id_str     screen_name  created_at   latitude   longitude  \\\n",
       "0   29292924   queeraspoetry  2018-05-06  19.560340 -154.986600   \n",
       "1  414227956  NaomiCooper808  2018-05-06  20.020278 -155.667778   \n",
       "2   20112512       vioart527  2018-05-06  19.650000 -155.994000   \n",
       "3   18645703         syvideo  2018-05-06  19.473500 -154.920000   \n",
       "4   18829708        rodney_o  2018-05-06  19.204109 -155.479005   \n",
       "\n",
       "                                                text  \n",
       "0  Good am! 🤙🌋 @ Center for Spiritual Living in H...  \n",
       "1       #vacay #Ladat @ Waimea, Hawaii County, Hawai  \n",
       "2       Last sunset in Hawaii . . . until next time,  \n",
       "3  Adventures of covering lava flow on Hilo, HI. ...  \n",
       "4  Breakfast in Pahala. Leftovers and @rustyshawa...  "
      ]
     },
     "execution_count": 2,
     "metadata": {},
     "output_type": "execute_result"
    }
   ],
   "source": [
    "#Leitura do arquivo\n",
    "data = pd.read_csv('data_set.csv')\n",
    "#Correção no formato da data\n",
    "data['created_at'] = data['created_at'].apply(dateutil.parser.parse, dayfirst = True)\n",
    "#Remove as horas da coluna created_at, apenas em tempo de execução\n",
    "data['created_at'] = data['created_at'].dt.strftime('%Y-%m-%d')\n",
    "\n",
    "data.head()"
   ]
  },
  {
   "cell_type": "code",
   "execution_count": 3,
   "metadata": {},
   "outputs": [
    {
     "data": {
      "text/plain": [
       "1829"
      ]
     },
     "execution_count": 3,
     "metadata": {},
     "output_type": "execute_result"
    }
   ],
   "source": [
    "#Quantidade de linhas do dataset\n",
    "data['created_at'].count()"
   ]
  },
  {
   "cell_type": "code",
   "execution_count": 4,
   "metadata": {},
   "outputs": [
    {
     "data": {
      "text/plain": [
       "'2018-04-27'"
      ]
     },
     "execution_count": 4,
     "metadata": {},
     "output_type": "execute_result"
    }
   ],
   "source": [
    "#Data mais antiga\n",
    "data['created_at'].min()"
   ]
  },
  {
   "cell_type": "code",
   "execution_count": 5,
   "metadata": {},
   "outputs": [
    {
     "data": {
      "text/plain": [
       "'2018-05-29'"
      ]
     },
     "execution_count": 5,
     "metadata": {},
     "output_type": "execute_result"
    }
   ],
   "source": [
    "#Datamais recente\n",
    "data['created_at'].max()\n",
    "\n",
    "\n"
   ]
  },
  {
   "cell_type": "code",
   "execution_count": 6,
   "metadata": {},
   "outputs": [
    {
     "data": {
      "text/plain": [
       "array(['2018-05-06', '2018-05-05', '2018-05-04', '2018-05-03',\n",
       "       '2018-05-02', '2018-05-01', '2018-04-30', '2018-04-29',\n",
       "       '2018-04-28', '2018-04-27', '2018-05-29', '2018-05-28',\n",
       "       '2018-05-27', '2018-05-26', '2018-05-25', '2018-05-24',\n",
       "       '2018-05-23', '2018-05-22', '2018-05-21', '2018-05-20',\n",
       "       '2018-05-09', '2018-05-08', '2018-05-07'], dtype=object)"
      ]
     },
     "execution_count": 6,
     "metadata": {},
     "output_type": "execute_result"
    }
   ],
   "source": [
    "data['created_at'].unique()"
   ]
  },
  {
   "cell_type": "code",
   "execution_count": 7,
   "metadata": {},
   "outputs": [
    {
     "data": {
      "text/plain": [
       "2018-05-01    217\n",
       "2018-05-04    202\n",
       "2018-05-06    189\n",
       "2018-05-05    182\n",
       "2018-05-07    167\n",
       "Name: created_at, dtype: int64"
      ]
     },
     "execution_count": 7,
     "metadata": {},
     "output_type": "execute_result"
    }
   ],
   "source": [
    "#AgrupamentosS\n",
    "qkeys = data['created_at'].value_counts()\n",
    "qkeys.head()"
   ]
  },
  {
   "cell_type": "code",
   "execution_count": 8,
   "metadata": {},
   "outputs": [
    {
     "data": {
      "text/plain": [
       "dict_keys(['2018-04-27', '2018-04-28', '2018-04-29', '2018-04-30', '2018-05-01', '2018-05-02', '2018-05-03', '2018-05-04', '2018-05-05', '2018-05-06', '2018-05-07', '2018-05-08', '2018-05-09', '2018-05-20', '2018-05-21', '2018-05-22', '2018-05-23', '2018-05-24', '2018-05-25', '2018-05-26', '2018-05-27', '2018-05-28', '2018-05-29'])"
      ]
     },
     "execution_count": 8,
     "metadata": {},
     "output_type": "execute_result"
    }
   ],
   "source": [
    "#Criando os grupos de datas pra ser o pivô dos grupos\n",
    "keys = data.groupby(['created_at']).groups.keys()\n",
    "keys"
   ]
  },
  {
   "cell_type": "code",
   "execution_count": 9,
   "metadata": {},
   "outputs": [
    {
     "data": {
      "image/png": "[encoded data removed]",
      "text/plain": [
       "<Figure size 720x360 with 1 Axes>"
      ]
     },
     "metadata": {
      "needs_background": "light"
     },
     "output_type": "display_data"
    }
   ],
   "source": [
    "#Plot da distribuição dos tweets por dia -> Ok\n",
    "\n",
    "tkeys = data.groupby('created_at').count()\n",
    "\n",
    "objects = [[],[]]\n",
    "\n",
    "qtdbars = 10\n",
    "\n",
    "for index, row in tkeys.iterrows():\n",
    "    objects[0].append(row['id_str'])\n",
    "    objects[1].append(index)\n",
    "\n",
    "y_pos = np.arange(len(objects[1][:qtdbars]))\n",
    "\n",
    "plt.figure(figsize=(10, 5))\n",
    "plt.barh(y_pos, objects[0][:qtdbars], align='center')\n",
    "\n",
    "plt.yticks(y_pos, objects[1][:qtdbars])\n",
    "plt.xlabel('Quantidade')\n",
    "plt.ylabel('Dias')\n",
    "plt.title('Distribuição de tweets por dia')\n",
    " \n",
    "plt.show()\n"
   ]
  },
  {
   "cell_type": "code",
   "execution_count": 10,
   "metadata": {
    "scrolled": true
   },
   "outputs": [],
   "source": [
    "\n",
    "#Agrpamento por dia... Tweets agrupados e separados em arquivos com as datas correspondentes\n",
    "# -> Ok\n",
    "for find in keys:\n",
    "    \n",
    "    out = csv.writer(open(\"Grupos/Grupo - \" + find + \".csv\",\"w\"))\n",
    "    out.writerow(\n",
    "        ['text']\n",
    "    )\n",
    "        \n",
    "    for line in csv.DictReader(open('data_set.csv')):\n",
    "        \n",
    "        dt = parse(line['created_at'])\n",
    "        dt = dt.strftime('%Y-%m-%d')\n",
    "        \n",
    "        if find == dt:\n",
    "            out.writerow([line['text']])\n",
    "\n"
   ]
  },
  {
   "cell_type": "code",
   "execution_count": 11,
   "metadata": {
    "scrolled": false
   },
   "outputs": [
    {
     "data": {
      "image/png": "[encoded data removed]",
      "text/plain": [
       "<Figure size 720x360 with 1 Axes>"
      ]
     },
     "metadata": {
      "needs_background": "light"
     },
     "output_type": "display_data"
    },
    {
     "data": {
      "image/png": "[encoded data removed]",
      "text/plain": [
       "<Figure size 1440x360 with 4 Axes>"
      ]
     },
     "metadata": {
      "needs_background": "light"
     },
     "output_type": "display_data"
    }
   ],
   "source": [
    "#Teste de leitura dos grupos -> Ok\n",
    "import os, re\n",
    "from collections import Counter\n",
    "from nltk.corpus import stopwords\n",
    "from nltk.tokenize import word_tokenize\n",
    "from nltk import  RegexpTokenizer\n",
    "\n",
    "\n",
    "def regex_clean_noises(text):\n",
    "    return ' '.join(\n",
    "        [t for t in text.strip().split() if re.match(r'[^\\W\\d]*$', t)]\n",
    "    )\n",
    "\n",
    "def regex_clean(text):\n",
    "    return  regex_clean_noises(\n",
    "        ' '.join(RegexpTokenizer(r'\\w+').tokenize(text)).lower()\n",
    "    )\n",
    "\n",
    "def stopwords_clean(text):\n",
    "    stop_words = set(stopwords.words('english')) \n",
    "    tokens = word_tokenize(\n",
    "        regex_clean(text)\n",
    "    )\n",
    "    filtered_sentence = [w for w in tokens if not w in stop_words]\n",
    "\n",
    "    return filtered_sentence\n",
    "\n",
    "\n",
    "def frequency_all():\n",
    "    \n",
    "    data_plot = [[],[]]\n",
    "    \n",
    "    counter = Counter()\n",
    "\n",
    "    for line in os.listdir('Grupos'):\n",
    "\n",
    "        for kem in csv.DictReader(open('Grupos/'+line)):\n",
    "            counter.update(\n",
    "                stopwords_clean(kem['text'])\n",
    "            )\n",
    "\n",
    "    for tag, count in counter.most_common(20):\n",
    "        #condição pra passar somente palvras formadas com mais de 2 letras\n",
    "        if len(tag) > 2:\n",
    "            data_plot[0].append(tag)\n",
    "            data_plot[1].append(count)\n",
    "            \n",
    "    return data_plot        \n",
    "            \n",
    "def frequency_perday():\n",
    "\n",
    "    data_plot = []\n",
    "    \n",
    "    for line in os.listdir('Grupos'):\n",
    "        \n",
    "        counter = Counter()\n",
    "        flag = [[],[]]\n",
    "\n",
    "        for kem in csv.DictReader(open('Grupos/'+line)):\n",
    "            counter.update(\n",
    "                stopwords_clean(kem['text'])\n",
    "            )\n",
    "\n",
    "        for tag, count in counter.most_common(3):\n",
    "            flag[0].append(tag)\n",
    "            flag[1].append(count)\n",
    "        data_plot.append([line[7:18],flag])\n",
    "        \n",
    "            #condição pra passar somente palvras formadas com mais de 2 letras\n",
    "\n",
    "\n",
    "    return data_plot\n",
    "\n",
    "def plot_words(data_plot):\n",
    "    \n",
    "    indexes = np.arange(len(data_plot[0]))\n",
    "    plt.figure(figsize = (10, 5))\n",
    "    plt.xticks(indexes, data_plot[0], rotation = 90)\n",
    "    plt.bar(indexes, data_plot[1] , align='center') \n",
    "    \n",
    "def plot_words_perday(data_plot):\n",
    "    \n",
    "    stop = 4\n",
    "    count = 0\n",
    "    \n",
    "    fig, axs = plt.subplots(1, stop, figsize=(20, 5), sharey=True)\n",
    "    \n",
    "    for title, line in data_plot:\n",
    "        plt.rc('font', size=15)  \n",
    "        axs[count].bar(line[0], line[1])\n",
    "        axs[count].set_title(title)\n",
    "        count += 1\n",
    "        \n",
    "        if count == stop:\n",
    "            break;\n",
    "\n",
    "plot_words(\n",
    "    frequency_all()\n",
    ")\n",
    "\n",
    "plot_words_perday(\n",
    "    frequency_perday()\n",
    ")\n"
   ]
  },
  {
   "cell_type": "code",
   "execution_count": 12,
   "metadata": {},
   "outputs": [
    {
     "data": {
      "text/html": [
       "<div style=\"width:100%;\"><div style=\"position:relative;width:100%;height:0;padding-bottom:60%;\"><iframe src=\"data:text/html;charset=utf-8;base64,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\" style=\"position:absolute;width:100%;height:100%;left:0;top:0;border:none !important;\" allowfullscreen webkitallowfullscreen mozallowfullscreen></iframe></div></div>"
      ],
      "text/plain": [
       "<folium.folium.Map at 0x7fa97c2092b0>"
      ]
     },
     "execution_count": 12,
     "metadata": {},
     "output_type": "execute_result"
    }
   ],
   "source": [
    "import folium\n",
    "hawaii = folium.Map(location = [19.643392, -155.369082], zoom_start = 7.5)\n",
    "hawaii"
   ]
  },
  {
   "cell_type": "code",
   "execution_count": null,
   "metadata": {},
   "outputs": [],
   "source": []
  }
 ],
 "metadata": {
  "kernelspec": {
   "display_name": "Python 3",
   "language": "python",
   "name": "python3"
  },
  "language_info": {
   "codemirror_mode": {
    "name": "ipython",
    "version": 3
   },
   "file_extension": ".py",
   "mimetype": "text/x-python",
   "name": "python",
   "nbconvert_exporter": "python",
   "pygments_lexer": "ipython3",
   "version": "3.7.2"
  }
 },
 "nbformat": 4,
 "nbformat_minor": 2
}
