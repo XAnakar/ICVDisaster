{
 "cells": [
  {
   "cell_type": "code",
   "execution_count": 49,
   "metadata": {},
   "outputs": [],
   "source": [
    "import pandas as pd\n",
    "import numpy as np\n",
    "import seaborn as sns\n"
   ]
  },
  {
   "cell_type": "code",
   "execution_count": 50,
   "metadata": {},
   "outputs": [
    {
     "data": {
      "text/html": [
       "<div>\n",
       "<style scoped>\n",
       "    .dataframe tbody tr th:only-of-type {\n",
       "        vertical-align: middle;\n",
       "    }\n",
       "\n",
       "    .dataframe tbody tr th {\n",
       "        vertical-align: top;\n",
       "    }\n",
       "\n",
       "    .dataframe thead th {\n",
       "        text-align: right;\n",
       "    }\n",
       "</style>\n",
       "<table border=\"1\" class=\"dataframe\">\n",
       "  <thead>\n",
       "    <tr style=\"text-align: right;\">\n",
       "      <th></th>\n",
       "      <th>NOME_BARRAGEM_MINERACAO</th>\n",
       "      <th>NOME_DO_EMPREENDEDOR</th>\n",
       "      <th>CPF_CNPJ</th>\n",
       "      <th>LATITUDE</th>\n",
       "      <th>LONGITUDE</th>\n",
       "      <th>POSICIONAMENTO</th>\n",
       "      <th>UF</th>\n",
       "      <th>MUNICIPIO</th>\n",
       "      <th>MINERIO_PRINCIPAL</th>\n",
       "      <th>ALTURA_ATUAL_metros</th>\n",
       "      <th>VOLUME_ATUAL_m3</th>\n",
       "      <th>CATEGORIA_DE_RISCO</th>\n",
       "      <th>DANO_POTENCIAL_ASSOCIADO</th>\n",
       "      <th>CLASSE</th>\n",
       "      <th>INSERIDA_NA_PNSB</th>\n",
       "      <th>Lat_decimal</th>\n",
       "      <th>Long_decimal</th>\n",
       "    </tr>\n",
       "  </thead>\n",
       "  <tbody>\n",
       "    <tr>\n",
       "      <th>0</th>\n",
       "      <td>0-1</td>\n",
       "      <td>Mineração Taboca S.a.</td>\n",
       "      <td>34.019.992/0001-10</td>\n",
       "      <td>-00º44'00,100\"</td>\n",
       "      <td>-60º08'18,200\"</td>\n",
       "      <td>Sul do Equador</td>\n",
       "      <td>AM</td>\n",
       "      <td>PRESIDENTE FIGUEIREDO</td>\n",
       "      <td>Minério de Estanho Primário</td>\n",
       "      <td>22.00</td>\n",
       "      <td>27,700,000.00</td>\n",
       "      <td>Baixa</td>\n",
       "      <td>Média</td>\n",
       "      <td>C</td>\n",
       "      <td>Sim</td>\n",
       "      <td>0.733361</td>\n",
       "      <td>-60.138389</td>\n",
       "    </tr>\n",
       "    <tr>\n",
       "      <th>1</th>\n",
       "      <td>103 (Cruz)</td>\n",
       "      <td>Mineração Taboca S.a.</td>\n",
       "      <td>34.019.992/0001-10</td>\n",
       "      <td>-00º47'08,600\"</td>\n",
       "      <td>-60º08'30,900\"</td>\n",
       "      <td>Sul do Equador</td>\n",
       "      <td>AM</td>\n",
       "      <td>PRESIDENTE FIGUEIREDO</td>\n",
       "      <td>Minério de Estanho Primário</td>\n",
       "      <td>10.30</td>\n",
       "      <td>924,000.00</td>\n",
       "      <td>Baixa</td>\n",
       "      <td>Média</td>\n",
       "      <td>C</td>\n",
       "      <td>Sim</td>\n",
       "      <td>0.785722</td>\n",
       "      <td>-60.141917</td>\n",
       "    </tr>\n",
       "    <tr>\n",
       "      <th>2</th>\n",
       "      <td>111 (Índio)</td>\n",
       "      <td>Mineração Taboca S.a.</td>\n",
       "      <td>34.019.992/0001-10</td>\n",
       "      <td>-00º47'22,800\"</td>\n",
       "      <td>-60º08'39,400\"</td>\n",
       "      <td>Sul do Equador</td>\n",
       "      <td>AM</td>\n",
       "      <td>PRESIDENTE FIGUEIREDO</td>\n",
       "      <td>Minério de Estanho Primário</td>\n",
       "      <td>5.00</td>\n",
       "      <td>48,873.00</td>\n",
       "      <td>Baixa</td>\n",
       "      <td>Média</td>\n",
       "      <td>C</td>\n",
       "      <td>Sim</td>\n",
       "      <td>0.789667</td>\n",
       "      <td>-60.144278</td>\n",
       "    </tr>\n",
       "    <tr>\n",
       "      <th>3</th>\n",
       "      <td>158 (A-1)</td>\n",
       "      <td>Mineração Taboca S.a.</td>\n",
       "      <td>34.019.992/0001-10</td>\n",
       "      <td>-00º44'16,900\"</td>\n",
       "      <td>-60º04'44,100\"</td>\n",
       "      <td>Sul do Equador</td>\n",
       "      <td>AM</td>\n",
       "      <td>PRESIDENTE FIGUEIREDO</td>\n",
       "      <td>Minério de Estanho Primário</td>\n",
       "      <td>30.00</td>\n",
       "      <td>53,380,000.00</td>\n",
       "      <td>Baixa</td>\n",
       "      <td>Alta</td>\n",
       "      <td>B</td>\n",
       "      <td>Sim</td>\n",
       "      <td>0.738028</td>\n",
       "      <td>-60.078917</td>\n",
       "    </tr>\n",
       "    <tr>\n",
       "      <th>4</th>\n",
       "      <td>161 (A-2)</td>\n",
       "      <td>Mineração Taboca S.a.</td>\n",
       "      <td>34.019.992/0001-10</td>\n",
       "      <td>-00º43'56,233\"</td>\n",
       "      <td>-60º04'08,396\"</td>\n",
       "      <td>Sul do Equador</td>\n",
       "      <td>AM</td>\n",
       "      <td>PRESIDENTE FIGUEIREDO</td>\n",
       "      <td>Minério de Estanho Primário</td>\n",
       "      <td>22.00</td>\n",
       "      <td>1,018,054.00</td>\n",
       "      <td>Baixa</td>\n",
       "      <td>Média</td>\n",
       "      <td>C</td>\n",
       "      <td>Sim</td>\n",
       "      <td>0.732287</td>\n",
       "      <td>-60.068999</td>\n",
       "    </tr>\n",
       "  </tbody>\n",
       "</table>\n",
       "</div>"
      ],
      "text/plain": [
       "  NOME_BARRAGEM_MINERACAO   NOME_DO_EMPREENDEDOR            CPF_CNPJ  \\\n",
       "0                     0-1  Mineração Taboca S.a.  34.019.992/0001-10   \n",
       "1              103 (Cruz)  Mineração Taboca S.a.  34.019.992/0001-10   \n",
       "2             111 (Índio)  Mineração Taboca S.a.  34.019.992/0001-10   \n",
       "3               158 (A-1)  Mineração Taboca S.a.  34.019.992/0001-10   \n",
       "4               161 (A-2)  Mineração Taboca S.a.  34.019.992/0001-10   \n",
       "\n",
       "         LATITUDE       LONGITUDE  POSICIONAMENTO  UF              MUNICIPIO  \\\n",
       "0  -00º44'00,100\"  -60º08'18,200\"  Sul do Equador  AM  PRESIDENTE FIGUEIREDO   \n",
       "1  -00º47'08,600\"  -60º08'30,900\"  Sul do Equador  AM  PRESIDENTE FIGUEIREDO   \n",
       "2  -00º47'22,800\"  -60º08'39,400\"  Sul do Equador  AM  PRESIDENTE FIGUEIREDO   \n",
       "3  -00º44'16,900\"  -60º04'44,100\"  Sul do Equador  AM  PRESIDENTE FIGUEIREDO   \n",
       "4  -00º43'56,233\"  -60º04'08,396\"  Sul do Equador  AM  PRESIDENTE FIGUEIREDO   \n",
       "\n",
       "             MINERIO_PRINCIPAL ALTURA_ATUAL_metros VOLUME_ATUAL_m3  \\\n",
       "0  Minério de Estanho Primário               22.00   27,700,000.00   \n",
       "1  Minério de Estanho Primário               10.30      924,000.00   \n",
       "2  Minério de Estanho Primário                5.00       48,873.00   \n",
       "3  Minério de Estanho Primário               30.00   53,380,000.00   \n",
       "4  Minério de Estanho Primário               22.00    1,018,054.00   \n",
       "\n",
       "  CATEGORIA_DE_RISCO DANO_POTENCIAL_ASSOCIADO CLASSE INSERIDA_NA_PNSB  \\\n",
       "0              Baixa                    Média      C              Sim   \n",
       "1              Baixa                    Média      C              Sim   \n",
       "2              Baixa                    Média      C              Sim   \n",
       "3              Baixa                     Alta      B              Sim   \n",
       "4              Baixa                    Média      C              Sim   \n",
       "\n",
       "   Lat_decimal  Long_decimal  \n",
       "0     0.733361    -60.138389  \n",
       "1     0.785722    -60.141917  \n",
       "2     0.789667    -60.144278  \n",
       "3     0.738028    -60.078917  \n",
       "4     0.732287    -60.068999  "
      ]
     },
     "execution_count": 50,
     "metadata": {},
     "output_type": "execute_result"
    }
   ],
   "source": [
    "data = pd.read_csv('barragens.csv')\n",
    "data.head()"
   ]
  },
  {
   "cell_type": "code",
   "execution_count": 48,
   "metadata": {},
   "outputs": [
    {
     "data": {
      "text/plain": [
       "<matplotlib.axes._subplots.AxesSubplot at 0x7f0af3bad668>"
      ]
     },
     "execution_count": 48,
     "metadata": {},
     "output_type": "execute_result"
    },
    {
     "data": {
      "image/png": "[encoded data removed]",
      "text/plain": [
       "<Figure size 432x288 with 1 Axes>"
      ]
     },
     "metadata": {
      "needs_background": "light"
     },
     "output_type": "display_data"
    }
   ],
   "source": [
    "sns.countplot(data['UF'])"
   ]
  },
  {
   "cell_type": "code",
   "execution_count": 45,
   "metadata": {},
   "outputs": [
    {
     "data": {
      "text/plain": [
       "<matplotlib.axes._subplots.AxesSubplot at 0x7f0af4130e80>"
      ]
     },
     "execution_count": 45,
     "metadata": {},
     "output_type": "execute_result"
    },
    {
     "data": {
      "image/png": "[encoded data removed]",
      "text/plain": [
       "<Figure size 432x288 with 1 Axes>"
      ]
     },
     "metadata": {
      "needs_background": "light"
     },
     "output_type": "display_data"
    }
   ],
   "source": [
    "sns.countplot(data['CLASSE'])"
   ]
  },
  {
   "cell_type": "code",
   "execution_count": 44,
   "metadata": {},
   "outputs": [
    {
     "data": {
      "text/plain": [
       "<matplotlib.axes._subplots.AxesSubplot at 0x7f0af4388748>"
      ]
     },
     "execution_count": 44,
     "metadata": {},
     "output_type": "execute_result"
    },
    {
     "data": {
      "image/png": "[encoded data removed]",
      "text/plain": [
       "<Figure size 432x288 with 1 Axes>"
      ]
     },
     "metadata": {
      "needs_background": "light"
     },
     "output_type": "display_data"
    }
   ],
   "source": [
    "sns.countplot(data['CATEGORIA_DE_RISCO'])\n"
   ]
  },
  {
   "cell_type": "code",
   "execution_count": 43,
   "metadata": {},
   "outputs": [
    {
     "data": {
      "text/plain": [
       "<matplotlib.axes._subplots.AxesSubplot at 0x7f0af43bada0>"
      ]
     },
     "execution_count": 43,
     "metadata": {},
     "output_type": "execute_result"
    },
    {
     "data": {
      "image/png": "[encoded data removed]",
      "text/plain": [
       "<Figure size 432x288 with 1 Axes>"
      ]
     },
     "metadata": {
      "needs_background": "light"
     },
     "output_type": "display_data"
    }
   ],
   "source": [
    "sns.countplot(data['DANO_POTENCIAL_ASSOCIADO'])"
   ]
  },
  {
   "cell_type": "code",
   "execution_count": null,
   "metadata": {},
   "outputs": [],
   "source": []
  }
 ],
 "metadata": {
  "kernelspec": {
   "display_name": "Python 3",
   "language": "python",
   "name": "python3"
  },
  "language_info": {
   "codemirror_mode": {
    "name": "ipython",
    "version": 3
   },
   "file_extension": ".py",
   "mimetype": "text/x-python",
   "name": "python",
   "nbconvert_exporter": "python",
   "pygments_lexer": "ipython3",
   "version": "3.7.0"
  }
 },
 "nbformat": 4,
 "nbformat_minor": 2
}
