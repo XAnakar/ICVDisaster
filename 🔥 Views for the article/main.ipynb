{
 "cells": [
  {
   "cell_type": "code",
   "execution_count": 1,
   "metadata": {},
   "outputs": [],
   "source": [
    "import numpy as np\n",
    "import matplotlib.pyplot as plt\n",
    "import pandas as pd\n",
    "import dateutil\n",
    "from dateutil.parser import parse\n",
    "import csv"
   ]
  },
  {
   "cell_type": "code",
   "execution_count": 2,
   "metadata": {
    "scrolled": true
   },
   "outputs": [
    {
     "data": {
      "text/html": [
       "<div>\n",
       "<style scoped>\n",
       "    .dataframe tbody tr th:only-of-type {\n",
       "        vertical-align: middle;\n",
       "    }\n",
       "\n",
       "    .dataframe tbody tr th {\n",
       "        vertical-align: top;\n",
       "    }\n",
       "\n",
       "    .dataframe thead th {\n",
       "        text-align: right;\n",
       "    }\n",
       "</style>\n",
       "<table border=\"1\" class=\"dataframe\">\n",
       "  <thead>\n",
       "    <tr style=\"text-align: right;\">\n",
       "      <th></th>\n",
       "      <th>id_str</th>\n",
       "      <th>screen_name</th>\n",
       "      <th>created_at</th>\n",
       "      <th>latitude</th>\n",
       "      <th>longitude</th>\n",
       "      <th>text</th>\n",
       "    </tr>\n",
       "  </thead>\n",
       "  <tbody>\n",
       "    <tr>\n",
       "      <th>0</th>\n",
       "      <td>29292924</td>\n",
       "      <td>queeraspoetry</td>\n",
       "      <td>2018-05-06</td>\n",
       "      <td>19.560340</td>\n",
       "      <td>-154.986600</td>\n",
       "      <td>Good am! 🤙🌋 @ Center for Spiritual Living in H...</td>\n",
       "    </tr>\n",
       "    <tr>\n",
       "      <th>1</th>\n",
       "      <td>414227956</td>\n",
       "      <td>NaomiCooper808</td>\n",
       "      <td>2018-05-06</td>\n",
       "      <td>20.020278</td>\n",
       "      <td>-155.667778</td>\n",
       "      <td>#vacay #Ladat @ Waimea, Hawaii County, Hawai</td>\n",
       "    </tr>\n",
       "    <tr>\n",
       "      <th>2</th>\n",
       "      <td>20112512</td>\n",
       "      <td>vioart527</td>\n",
       "      <td>2018-05-06</td>\n",
       "      <td>19.650000</td>\n",
       "      <td>-155.994000</td>\n",
       "      <td>Last sunset in Hawaii . . . until next time,</td>\n",
       "    </tr>\n",
       "    <tr>\n",
       "      <th>3</th>\n",
       "      <td>18645703</td>\n",
       "      <td>syvideo</td>\n",
       "      <td>2018-05-06</td>\n",
       "      <td>19.473500</td>\n",
       "      <td>-154.920000</td>\n",
       "      <td>Adventures of covering lava flow on Hilo, HI. ...</td>\n",
       "    </tr>\n",
       "    <tr>\n",
       "      <th>4</th>\n",
       "      <td>18829708</td>\n",
       "      <td>rodney_o</td>\n",
       "      <td>2018-05-06</td>\n",
       "      <td>19.204109</td>\n",
       "      <td>-155.479005</td>\n",
       "      <td>Breakfast in Pahala. Leftovers and @rustyshawa...</td>\n",
       "    </tr>\n",
       "  </tbody>\n",
       "</table>\n",
       "</div>"
      ],
      "text/plain": [
       "      id_str     screen_name  created_at   latitude   longitude  \\\n",
       "0   29292924   queeraspoetry  2018-05-06  19.560340 -154.986600   \n",
       "1  414227956  NaomiCooper808  2018-05-06  20.020278 -155.667778   \n",
       "2   20112512       vioart527  2018-05-06  19.650000 -155.994000   \n",
       "3   18645703         syvideo  2018-05-06  19.473500 -154.920000   \n",
       "4   18829708        rodney_o  2018-05-06  19.204109 -155.479005   \n",
       "\n",
       "                                                text  \n",
       "0  Good am! 🤙🌋 @ Center for Spiritual Living in H...  \n",
       "1       #vacay #Ladat @ Waimea, Hawaii County, Hawai  \n",
       "2       Last sunset in Hawaii . . . until next time,  \n",
       "3  Adventures of covering lava flow on Hilo, HI. ...  \n",
       "4  Breakfast in Pahala. Leftovers and @rustyshawa...  "
      ]
     },
     "execution_count": 2,
     "metadata": {},
     "output_type": "execute_result"
    }
   ],
   "source": [
    "#Leitura do arquivo\n",
    "data = pd.read_csv('data_set.csv')\n",
    "#Correção no formato da data\n",
    "data['created_at'] = data['created_at'].apply(dateutil.parser.parse, dayfirst = True)\n",
    "#Remove as horas da coluna created_at, apenas em tempo de execução\n",
    "data['created_at'] = data['created_at'].dt.strftime('%Y-%m-%d')\n",
    "\n",
    "data.head()"
   ]
  },
  {
   "cell_type": "code",
   "execution_count": 3,
   "metadata": {},
   "outputs": [
    {
     "data": {
      "text/plain": [
       "1829"
      ]
     },
     "execution_count": 3,
     "metadata": {},
     "output_type": "execute_result"
    }
   ],
   "source": [
    "#Quantidade de linhas do dataset\n",
    "data['created_at'].count()"
   ]
  },
  {
   "cell_type": "code",
   "execution_count": 4,
   "metadata": {},
   "outputs": [
    {
     "data": {
      "text/plain": [
       "'2018-04-27'"
      ]
     },
     "execution_count": 4,
     "metadata": {},
     "output_type": "execute_result"
    }
   ],
   "source": [
    "#Data mais antiga\n",
    "data['created_at'].min()"
   ]
  },
  {
   "cell_type": "code",
   "execution_count": 5,
   "metadata": {},
   "outputs": [
    {
     "data": {
      "text/plain": [
       "'2018-05-29'"
      ]
     },
     "execution_count": 5,
     "metadata": {},
     "output_type": "execute_result"
    }
   ],
   "source": [
    "#Datamais recente\n",
    "data['created_at'].max()\n",
    "\n",
    "\n"
   ]
  },
  {
   "cell_type": "code",
   "execution_count": 6,
   "metadata": {},
   "outputs": [
    {
     "data": {
      "text/plain": [
       "array(['2018-05-06', '2018-05-05', '2018-05-04', '2018-05-03',\n",
       "       '2018-05-02', '2018-05-01', '2018-04-30', '2018-04-29',\n",
       "       '2018-04-28', '2018-04-27', '2018-05-29', '2018-05-28',\n",
       "       '2018-05-27', '2018-05-26', '2018-05-25', '2018-05-24',\n",
       "       '2018-05-23', '2018-05-22', '2018-05-21', '2018-05-20',\n",
       "       '2018-05-09', '2018-05-08', '2018-05-07'], dtype=object)"
      ]
     },
     "execution_count": 6,
     "metadata": {},
     "output_type": "execute_result"
    }
   ],
   "source": [
    "data['created_at'].unique()"
   ]
  },
  {
   "cell_type": "code",
   "execution_count": 7,
   "metadata": {},
   "outputs": [
    {
     "data": {
      "text/plain": [
       "2018-05-01    217\n",
       "2018-05-04    202\n",
       "2018-05-06    189\n",
       "2018-05-05    182\n",
       "2018-05-07    167\n",
       "Name: created_at, dtype: int64"
      ]
     },
     "execution_count": 7,
     "metadata": {},
     "output_type": "execute_result"
    }
   ],
   "source": [
    "#AgrupamentosS\n",
    "qkeys = data['created_at'].value_counts()\n",
    "qkeys.head()"
   ]
  },
  {
   "cell_type": "code",
   "execution_count": 8,
   "metadata": {},
   "outputs": [
    {
     "data": {
      "text/plain": [
       "dict_keys(['2018-04-27', '2018-04-28', '2018-04-29', '2018-04-30', '2018-05-01', '2018-05-02', '2018-05-03', '2018-05-04', '2018-05-05', '2018-05-06', '2018-05-07', '2018-05-08', '2018-05-09', '2018-05-20', '2018-05-21', '2018-05-22', '2018-05-23', '2018-05-24', '2018-05-25', '2018-05-26', '2018-05-27', '2018-05-28', '2018-05-29'])"
      ]
     },
     "execution_count": 8,
     "metadata": {},
     "output_type": "execute_result"
    }
   ],
   "source": [
    "#Criando os grupos de datas pra ser o pivô dos grupos\n",
    "keys = data.groupby(['created_at']).groups.keys()\n",
    "keys"
   ]
  },
  {
   "cell_type": "code",
   "execution_count": 9,
   "metadata": {},
   "outputs": [
    {
     "data": {
      "image/png": "[encoded data removed]",
      "text/plain": [
       "<Figure size 720x360 with 1 Axes>"
      ]
     },
     "metadata": {
      "needs_background": "light"
     },
     "output_type": "display_data"
    }
   ],
   "source": [
    "#Plot da distribuição dos tweets por dia -> Ok\n",
    "\n",
    "tkeys = data.groupby('created_at').count()\n",
    "\n",
    "objects = [[],[]]\n",
    "\n",
    "qtdbars = 10\n",
    "\n",
    "for index, row in tkeys.iterrows():\n",
    "    objects[0].append(row['id_str'])\n",
    "    objects[1].append(index)\n",
    "\n",
    "y_pos = np.arange(len(objects[1][:qtdbars]))\n",
    "\n",
    "plt.figure(figsize=(10, 5))\n",
    "plt.barh(y_pos, objects[0][:qtdbars], align='center')\n",
    "\n",
    "plt.yticks(y_pos, objects[1][:qtdbars])\n",
    "plt.xlabel('Quantidade')\n",
    "plt.ylabel('Dias')\n",
    "plt.title('Distribuição de tweets por dia')\n",
    " \n",
    "plt.show()\n"
   ]
  },
  {
   "cell_type": "code",
   "execution_count": 10,
   "metadata": {
    "scrolled": true
   },
   "outputs": [],
   "source": [
    "\n",
    "#Agrpamento por dia... Tweets agrupados e separados em arquivos com as datas correspondentes\n",
    "# -> Ok\n",
    "for find in keys:\n",
    "    \n",
    "    out = csv.writer(open(\"Grupos/Grupo - \" + find + \".csv\",\"w\"))\n",
    "    out.writerow(\n",
    "        ['text']\n",
    "    )\n",
    "        \n",
    "    for line in csv.DictReader(open('data_set.csv')):\n",
    "        \n",
    "        dt = parse(line['created_at'])\n",
    "        dt = dt.strftime('%Y-%m-%d')\n",
    "        \n",
    "        if find == dt:\n",
    "            out.writerow([line['text']])\n",
    "\n"
   ]
  },
  {
   "cell_type": "code",
   "execution_count": 57,
   "metadata": {
    "scrolled": false
   },
   "outputs": [
    {
     "data": {
      "image/png": "[encoded data removed]",
      "text/plain": [
       "<Figure size 720x360 with 1 Axes>"
      ]
     },
     "metadata": {
      "needs_background": "light"
     },
     "output_type": "display_data"
    },
    {
     "data": {
      "image/png": "[encoded data removed]",
      "text/plain": [
       "<Figure size 1440x360 with 4 Axes>"
      ]
     },
     "metadata": {
      "needs_background": "light"
     },
     "output_type": "display_data"
    }
   ],
   "source": [
    "#Teste de leitura dos grupos -> Ok\n",
    "import os, re\n",
    "from collections import Counter\n",
    "from nltk.corpus import stopwords\n",
    "from nltk.tokenize import word_tokenize\n",
    "from nltk import  RegexpTokenizer\n",
    "\n",
    "\n",
    "def regex_clean_noises(text):\n",
    "    return ' '.join(\n",
    "        [t for t in text.strip().split() if re.match(r'[^\\W\\d]*$', t)]\n",
    "    )\n",
    "\n",
    "def regex_clean(text):\n",
    "    return  regex_clean_noises(\n",
    "        ' '.join(RegexpTokenizer(r'\\w+').tokenize(text)).lower()\n",
    "    )\n",
    "\n",
    "def stopwords_clean(text):\n",
    "    stop_words = set(stopwords.words('english')) \n",
    "    tokens = word_tokenize(\n",
    "        regex_clean(text)\n",
    "    )\n",
    "    filtered_sentence = [w for w in tokens if not w in stop_words]\n",
    "\n",
    "    return filtered_sentence\n",
    "\n",
    "\n",
    "def frequency_all():\n",
    "    \n",
    "    data_plot = [[],[]]\n",
    "    \n",
    "    counter = Counter()\n",
    "\n",
    "    for line in os.listdir('Grupos'):\n",
    "\n",
    "        for kem in csv.DictReader(open('Grupos/'+line)):\n",
    "            counter.update(\n",
    "                stopwords_clean(kem['text'])\n",
    "            )\n",
    "\n",
    "    for tag, count in counter.most_common(20):\n",
    "        #condição pra passar somente palvras formadas com mais de 2 letras\n",
    "        if len(tag) > 2:\n",
    "            data_plot[0].append(tag)\n",
    "            data_plot[1].append(count)\n",
    "            \n",
    "    return data_plot        \n",
    "            \n",
    "def frequency_perday():\n",
    "\n",
    "    data_plot = []\n",
    "    \n",
    "    for line in os.listdir('Grupos'):\n",
    "        \n",
    "        counter = Counter()\n",
    "        flag = [[],[]]\n",
    "\n",
    "        for kem in csv.DictReader(open('Grupos/'+line)):\n",
    "            counter.update(\n",
    "                stopwords_clean(kem['text'])\n",
    "            )\n",
    "\n",
    "        for tag, count in counter.most_common(3):\n",
    "            flag[0].append(tag)\n",
    "            flag[1].append(count)\n",
    "        data_plot.append([line[7:18],flag])\n",
    "        \n",
    "            #condição pra passar somente palvras formadas com mais de 2 letras\n",
    "\n",
    "\n",
    "    return data_plot\n",
    "\n",
    "def plot_words(data_plot):\n",
    "    \n",
    "    indexes = np.arange(len(data_plot[0]))\n",
    "    plt.figure(figsize = (10, 5))\n",
    "    plt.xticks(indexes, data_plot[0], rotation = 90)\n",
    "    plt.bar(indexes, data_plot[1] , align='center') \n",
    "    \n",
    "def plot_words_perday(data_plot):\n",
    "    \n",
    "    stop = 4\n",
    "    count = 0\n",
    "    \n",
    "    fig, axs = plt.subplots(1, stop, figsize=(20, 5), sharey=True)\n",
    "    \n",
    "    for title, line in data_plot:\n",
    "        plt.rc('font', size=15)  \n",
    "        axs[count].bar(line[0], line[1])\n",
    "        axs[count].set_title(title)\n",
    "        count += 1\n",
    "        \n",
    "        if count == stop:\n",
    "            break;\n",
    "\n",
    "plot_words(\n",
    "    frequency_all()\n",
    ")\n",
    "\n",
    "plot_words_perday(\n",
    "    frequency_perday()\n",
    ")\n"
   ]
  },
  {
   "cell_type": "code",
   "execution_count": 14,
   "metadata": {},
   "outputs": [
    {
     "data": {
      "text/html": [
       "<div style=\"width:100%;\"><div style=\"position:relative;width:100%;height:0;padding-bottom:60%;\"><iframe src=\"data:text/html;charset=utf-8;base64,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\" style=\"position:absolute;width:100%;height:100%;left:0;top:0;border:none !important;\" allowfullscreen webkitallowfullscreen mozallowfullscreen></iframe></div></div>"
      ],
      "text/plain": [
       "<folium.folium.Map at 0x7f604936deb8>"
      ]
     },
     "execution_count": 14,
     "metadata": {},
     "output_type": "execute_result"
    }
   ],
   "source": [
    "import folium\n",
    "hawaii = folium.Map(location = [19.643392, -155.369082], zoom_start = 7.5)\n",
    "hawaii"
   ]
  },
  {
   "cell_type": "code",
   "execution_count": 15,
   "metadata": {},
   "outputs": [
    {
     "data": {
      "text/html": [
       "\n",
       "    <div class=\"bk-root\">\n",
       "        <a href=\"https://bokeh.pydata.org\" target=\"_blank\" class=\"bk-logo bk-logo-small bk-logo-notebook\"></a>\n",
       "        <span id=\"1051\">Loading BokehJS ...</span>\n",
       "    </div>"
      ]
     },
     "metadata": {},
     "output_type": "display_data"
    },
    {
     "data": {
      "application/javascript": [
       "\n",
       "(function(root) {\n",
       "  function now() {\n",
       "    return new Date();\n",
       "  }\n",
       "\n",
       "  var force = true;\n",
       "\n",
       "  if (typeof (root._bokeh_onload_callbacks) === \"undefined\" || force === true) {\n",
       "    root._bokeh_onload_callbacks = [];\n",
       "    root._bokeh_is_loading = undefined;\n",
       "  }\n",
       "\n",
       "  var JS_MIME_TYPE = 'application/javascript';\n",
       "  var HTML_MIME_TYPE = 'text/html';\n",
       "  var EXEC_MIME_TYPE = 'application/vnd.bokehjs_exec.v0+json';\n",
       "  var CLASS_NAME = 'output_bokeh rendered_html';\n",
       "\n",
       "  /**\n",
       "   * Render data to the DOM node\n",
       "   */\n",
       "  function render(props, node) {\n",
       "    var script = document.createElement(\"script\");\n",
       "    node.appendChild(script);\n",
       "  }\n",
       "\n",
       "  /**\n",
       "   * Handle when an output is cleared or removed\n",
       "   */\n",
       "  function handleClearOutput(event, handle) {\n",
       "    var cell = handle.cell;\n",
       "\n",
       "    var id = cell.output_area._bokeh_element_id;\n",
       "    var server_id = cell.output_area._bokeh_server_id;\n",
       "    // Clean up Bokeh references\n",
       "    if (id != null && id in Bokeh.index) {\n",
       "      Bokeh.index[id].model.document.clear();\n",
       "      delete Bokeh.index[id];\n",
       "    }\n",
       "\n",
       "    if (server_id !== undefined) {\n",
       "      // Clean up Bokeh references\n",
       "      var cmd = \"from bokeh.io.state import curstate; print(curstate().uuid_to_server['\" + server_id + \"'].get_sessions()[0].document.roots[0]._id)\";\n",
       "      cell.notebook.kernel.execute(cmd, {\n",
       "        iopub: {\n",
       "          output: function(msg) {\n",
       "            var id = msg.content.text.trim();\n",
       "            if (id in Bokeh.index) {\n",
       "              Bokeh.index[id].model.document.clear();\n",
       "              delete Bokeh.index[id];\n",
       "            }\n",
       "          }\n",
       "        }\n",
       "      });\n",
       "      // Destroy server and session\n",
       "      var cmd = \"import bokeh.io.notebook as ion; ion.destroy_server('\" + server_id + \"')\";\n",
       "      cell.notebook.kernel.execute(cmd);\n",
       "    }\n",
       "  }\n",
       "\n",
       "  /**\n",
       "   * Handle when a new output is added\n",
       "   */\n",
       "  function handleAddOutput(event, handle) {\n",
       "    var output_area = handle.output_area;\n",
       "    var output = handle.output;\n",
       "\n",
       "    // limit handleAddOutput to display_data with EXEC_MIME_TYPE content only\n",
       "    if ((output.output_type != \"display_data\") || (!output.data.hasOwnProperty(EXEC_MIME_TYPE))) {\n",
       "      return\n",
       "    }\n",
       "\n",
       "    var toinsert = output_area.element.find(\".\" + CLASS_NAME.split(' ')[0]);\n",
       "\n",
       "    if (output.metadata[EXEC_MIME_TYPE][\"id\"] !== undefined) {\n",
       "      toinsert[toinsert.length - 1].firstChild.textContent = output.data[JS_MIME_TYPE];\n",
       "      // store reference to embed id on output_area\n",
       "      output_area._bokeh_element_id = output.metadata[EXEC_MIME_TYPE][\"id\"];\n",
       "    }\n",
       "    if (output.metadata[EXEC_MIME_TYPE][\"server_id\"] !== undefined) {\n",
       "      var bk_div = document.createElement(\"div\");\n",
       "      bk_div.innerHTML = output.data[HTML_MIME_TYPE];\n",
       "      var script_attrs = bk_div.children[0].attributes;\n",
       "      for (var i = 0; i < script_attrs.length; i++) {\n",
       "        toinsert[toinsert.length - 1].firstChild.setAttribute(script_attrs[i].name, script_attrs[i].value);\n",
       "      }\n",
       "      // store reference to server id on output_area\n",
       "      output_area._bokeh_server_id = output.metadata[EXEC_MIME_TYPE][\"server_id\"];\n",
       "    }\n",
       "  }\n",
       "\n",
       "  function register_renderer(events, OutputArea) {\n",
       "\n",
       "    function append_mime(data, metadata, element) {\n",
       "      // create a DOM node to render to\n",
       "      var toinsert = this.create_output_subarea(\n",
       "        metadata,\n",
       "        CLASS_NAME,\n",
       "        EXEC_MIME_TYPE\n",
       "      );\n",
       "      this.keyboard_manager.register_events(toinsert);\n",
       "      // Render to node\n",
       "      var props = {data: data, metadata: metadata[EXEC_MIME_TYPE]};\n",
       "      render(props, toinsert[toinsert.length - 1]);\n",
       "      element.append(toinsert);\n",
       "      return toinsert\n",
       "    }\n",
       "\n",
       "    /* Handle when an output is cleared or removed */\n",
       "    events.on('clear_output.CodeCell', handleClearOutput);\n",
       "    events.on('delete.Cell', handleClearOutput);\n",
       "\n",
       "    /* Handle when a new output is added */\n",
       "    events.on('output_added.OutputArea', handleAddOutput);\n",
       "\n",
       "    /**\n",
       "     * Register the mime type and append_mime function with output_area\n",
       "     */\n",
       "    OutputArea.prototype.register_mime_type(EXEC_MIME_TYPE, append_mime, {\n",
       "      /* Is output safe? */\n",
       "      safe: true,\n",
       "      /* Index of renderer in `output_area.display_order` */\n",
       "      index: 0\n",
       "    });\n",
       "  }\n",
       "\n",
       "  // register the mime type if in Jupyter Notebook environment and previously unregistered\n",
       "  if (root.Jupyter !== undefined) {\n",
       "    var events = require('base/js/events');\n",
       "    var OutputArea = require('notebook/js/outputarea').OutputArea;\n",
       "\n",
       "    if (OutputArea.prototype.mime_types().indexOf(EXEC_MIME_TYPE) == -1) {\n",
       "      register_renderer(events, OutputArea);\n",
       "    }\n",
       "  }\n",
       "\n",
       "  \n",
       "  if (typeof (root._bokeh_timeout) === \"undefined\" || force === true) {\n",
       "    root._bokeh_timeout = Date.now() + 5000;\n",
       "    root._bokeh_failed_load = false;\n",
       "  }\n",
       "\n",
       "  var NB_LOAD_WARNING = {'data': {'text/html':\n",
       "     \"<div style='background-color: #fdd'>\\n\"+\n",
       "     \"<p>\\n\"+\n",
       "     \"BokehJS does not appear to have successfully loaded. If loading BokehJS from CDN, this \\n\"+\n",
       "     \"may be due to a slow or bad network connection. Possible fixes:\\n\"+\n",
       "     \"</p>\\n\"+\n",
       "     \"<ul>\\n\"+\n",
       "     \"<li>re-rerun `output_notebook()` to attempt to load from CDN again, or</li>\\n\"+\n",
       "     \"<li>use INLINE resources instead, as so:</li>\\n\"+\n",
       "     \"</ul>\\n\"+\n",
       "     \"<code>\\n\"+\n",
       "     \"from bokeh.resources import INLINE\\n\"+\n",
       "     \"output_notebook(resources=INLINE)\\n\"+\n",
       "     \"</code>\\n\"+\n",
       "     \"</div>\"}};\n",
       "\n",
       "  function display_loaded() {\n",
       "    var el = document.getElementById(\"1051\");\n",
       "    if (el != null) {\n",
       "      el.textContent = \"BokehJS is loading...\";\n",
       "    }\n",
       "    if (root.Bokeh !== undefined) {\n",
       "      if (el != null) {\n",
       "        el.textContent = \"BokehJS \" + root.Bokeh.version + \" successfully loaded.\";\n",
       "      }\n",
       "    } else if (Date.now() < root._bokeh_timeout) {\n",
       "      setTimeout(display_loaded, 100)\n",
       "    }\n",
       "  }\n",
       "\n",
       "\n",
       "  function run_callbacks() {\n",
       "    try {\n",
       "      root._bokeh_onload_callbacks.forEach(function(callback) { callback() });\n",
       "    }\n",
       "    finally {\n",
       "      delete root._bokeh_onload_callbacks\n",
       "    }\n",
       "    console.info(\"Bokeh: all callbacks have finished\");\n",
       "  }\n",
       "\n",
       "  function load_libs(js_urls, callback) {\n",
       "    root._bokeh_onload_callbacks.push(callback);\n",
       "    if (root._bokeh_is_loading > 0) {\n",
       "      console.log(\"Bokeh: BokehJS is being loaded, scheduling callback at\", now());\n",
       "      return null;\n",
       "    }\n",
       "    if (js_urls == null || js_urls.length === 0) {\n",
       "      run_callbacks();\n",
       "      return null;\n",
       "    }\n",
       "    console.log(\"Bokeh: BokehJS not loaded, scheduling load and callback at\", now());\n",
       "    root._bokeh_is_loading = js_urls.length;\n",
       "    for (var i = 0; i < js_urls.length; i++) {\n",
       "      var url = js_urls[i];\n",
       "      var s = document.createElement('script');\n",
       "      s.src = url;\n",
       "      s.async = false;\n",
       "      s.onreadystatechange = s.onload = function() {\n",
       "        root._bokeh_is_loading--;\n",
       "        if (root._bokeh_is_loading === 0) {\n",
       "          console.log(\"Bokeh: all BokehJS libraries loaded\");\n",
       "          run_callbacks()\n",
       "        }\n",
       "      };\n",
       "      s.onerror = function() {\n",
       "        console.warn(\"failed to load library \" + url);\n",
       "      };\n",
       "      console.log(\"Bokeh: injecting script tag for BokehJS library: \", url);\n",
       "      document.getElementsByTagName(\"head\")[0].appendChild(s);\n",
       "    }\n",
       "  };var element = document.getElementById(\"1051\");\n",
       "  if (element == null) {\n",
       "    console.log(\"Bokeh: ERROR: autoload.js configured with elementid '1051' but no matching script tag was found. \")\n",
       "    return false;\n",
       "  }\n",
       "\n",
       "  var js_urls = [\"https://cdn.pydata.org/bokeh/release/bokeh-1.0.2.min.js\", \"https://cdn.pydata.org/bokeh/release/bokeh-widgets-1.0.2.min.js\", \"https://cdn.pydata.org/bokeh/release/bokeh-tables-1.0.2.min.js\", \"https://cdn.pydata.org/bokeh/release/bokeh-gl-1.0.2.min.js\"];\n",
       "\n",
       "  var inline_js = [\n",
       "    function(Bokeh) {\n",
       "      Bokeh.set_log_level(\"info\");\n",
       "    },\n",
       "    \n",
       "    function(Bokeh) {\n",
       "      \n",
       "    },\n",
       "    function(Bokeh) {\n",
       "      console.log(\"Bokeh: injecting CSS: https://cdn.pydata.org/bokeh/release/bokeh-1.0.2.min.css\");\n",
       "      Bokeh.embed.inject_css(\"https://cdn.pydata.org/bokeh/release/bokeh-1.0.2.min.css\");\n",
       "      console.log(\"Bokeh: injecting CSS: https://cdn.pydata.org/bokeh/release/bokeh-widgets-1.0.2.min.css\");\n",
       "      Bokeh.embed.inject_css(\"https://cdn.pydata.org/bokeh/release/bokeh-widgets-1.0.2.min.css\");\n",
       "      console.log(\"Bokeh: injecting CSS: https://cdn.pydata.org/bokeh/release/bokeh-tables-1.0.2.min.css\");\n",
       "      Bokeh.embed.inject_css(\"https://cdn.pydata.org/bokeh/release/bokeh-tables-1.0.2.min.css\");\n",
       "    }\n",
       "  ];\n",
       "\n",
       "  function run_inline_js() {\n",
       "    \n",
       "    if ((root.Bokeh !== undefined) || (force === true)) {\n",
       "      for (var i = 0; i < inline_js.length; i++) {\n",
       "        inline_js[i].call(root, root.Bokeh);\n",
       "      }if (force === true) {\n",
       "        display_loaded();\n",
       "      }} else if (Date.now() < root._bokeh_timeout) {\n",
       "      setTimeout(run_inline_js, 100);\n",
       "    } else if (!root._bokeh_failed_load) {\n",
       "      console.log(\"Bokeh: BokehJS failed to load within specified timeout.\");\n",
       "      root._bokeh_failed_load = true;\n",
       "    } else if (force !== true) {\n",
       "      var cell = $(document.getElementById(\"1051\")).parents('.cell').data().cell;\n",
       "      cell.output_area.append_execute_result(NB_LOAD_WARNING)\n",
       "    }\n",
       "\n",
       "  }\n",
       "\n",
       "  if (root._bokeh_is_loading === 0) {\n",
       "    console.log(\"Bokeh: BokehJS loaded, going straight to plotting\");\n",
       "    run_inline_js();\n",
       "  } else {\n",
       "    load_libs(js_urls, function() {\n",
       "      console.log(\"Bokeh: BokehJS plotting callback run at\", now());\n",
       "      run_inline_js();\n",
       "    });\n",
       "  }\n",
       "}(window));"
      ],
      "application/vnd.bokehjs_load.v0+json": "\n(function(root) {\n  function now() {\n    return new Date();\n  }\n\n  var force = true;\n\n  if (typeof (root._bokeh_onload_callbacks) === \"undefined\" || force === true) {\n    root._bokeh_onload_callbacks = [];\n    root._bokeh_is_loading = undefined;\n  }\n\n  \n\n  \n  if (typeof (root._bokeh_timeout) === \"undefined\" || force === true) {\n    root._bokeh_timeout = Date.now() + 5000;\n    root._bokeh_failed_load = false;\n  }\n\n  var NB_LOAD_WARNING = {'data': {'text/html':\n     \"<div style='background-color: #fdd'>\\n\"+\n     \"<p>\\n\"+\n     \"BokehJS does not appear to have successfully loaded. If loading BokehJS from CDN, this \\n\"+\n     \"may be due to a slow or bad network connection. Possible fixes:\\n\"+\n     \"</p>\\n\"+\n     \"<ul>\\n\"+\n     \"<li>re-rerun `output_notebook()` to attempt to load from CDN again, or</li>\\n\"+\n     \"<li>use INLINE resources instead, as so:</li>\\n\"+\n     \"</ul>\\n\"+\n     \"<code>\\n\"+\n     \"from bokeh.resources import INLINE\\n\"+\n     \"output_notebook(resources=INLINE)\\n\"+\n     \"</code>\\n\"+\n     \"</div>\"}};\n\n  function display_loaded() {\n    var el = document.getElementById(\"1051\");\n    if (el != null) {\n      el.textContent = \"BokehJS is loading...\";\n    }\n    if (root.Bokeh !== undefined) {\n      if (el != null) {\n        el.textContent = \"BokehJS \" + root.Bokeh.version + \" successfully loaded.\";\n      }\n    } else if (Date.now() < root._bokeh_timeout) {\n      setTimeout(display_loaded, 100)\n    }\n  }\n\n\n  function run_callbacks() {\n    try {\n      root._bokeh_onload_callbacks.forEach(function(callback) { callback() });\n    }\n    finally {\n      delete root._bokeh_onload_callbacks\n    }\n    console.info(\"Bokeh: all callbacks have finished\");\n  }\n\n  function load_libs(js_urls, callback) {\n    root._bokeh_onload_callbacks.push(callback);\n    if (root._bokeh_is_loading > 0) {\n      console.log(\"Bokeh: BokehJS is being loaded, scheduling callback at\", now());\n      return null;\n    }\n    if (js_urls == null || js_urls.length === 0) {\n      run_callbacks();\n      return null;\n    }\n    console.log(\"Bokeh: BokehJS not loaded, scheduling load and callback at\", now());\n    root._bokeh_is_loading = js_urls.length;\n    for (var i = 0; i < js_urls.length; i++) {\n      var url = js_urls[i];\n      var s = document.createElement('script');\n      s.src = url;\n      s.async = false;\n      s.onreadystatechange = s.onload = function() {\n        root._bokeh_is_loading--;\n        if (root._bokeh_is_loading === 0) {\n          console.log(\"Bokeh: all BokehJS libraries loaded\");\n          run_callbacks()\n        }\n      };\n      s.onerror = function() {\n        console.warn(\"failed to load library \" + url);\n      };\n      console.log(\"Bokeh: injecting script tag for BokehJS library: \", url);\n      document.getElementsByTagName(\"head\")[0].appendChild(s);\n    }\n  };var element = document.getElementById(\"1051\");\n  if (element == null) {\n    console.log(\"Bokeh: ERROR: autoload.js configured with elementid '1051' but no matching script tag was found. \")\n    return false;\n  }\n\n  var js_urls = [\"https://cdn.pydata.org/bokeh/release/bokeh-1.0.2.min.js\", \"https://cdn.pydata.org/bokeh/release/bokeh-widgets-1.0.2.min.js\", \"https://cdn.pydata.org/bokeh/release/bokeh-tables-1.0.2.min.js\", \"https://cdn.pydata.org/bokeh/release/bokeh-gl-1.0.2.min.js\"];\n\n  var inline_js = [\n    function(Bokeh) {\n      Bokeh.set_log_level(\"info\");\n    },\n    \n    function(Bokeh) {\n      \n    },\n    function(Bokeh) {\n      console.log(\"Bokeh: injecting CSS: https://cdn.pydata.org/bokeh/release/bokeh-1.0.2.min.css\");\n      Bokeh.embed.inject_css(\"https://cdn.pydata.org/bokeh/release/bokeh-1.0.2.min.css\");\n      console.log(\"Bokeh: injecting CSS: https://cdn.pydata.org/bokeh/release/bokeh-widgets-1.0.2.min.css\");\n      Bokeh.embed.inject_css(\"https://cdn.pydata.org/bokeh/release/bokeh-widgets-1.0.2.min.css\");\n      console.log(\"Bokeh: injecting CSS: https://cdn.pydata.org/bokeh/release/bokeh-tables-1.0.2.min.css\");\n      Bokeh.embed.inject_css(\"https://cdn.pydata.org/bokeh/release/bokeh-tables-1.0.2.min.css\");\n    }\n  ];\n\n  function run_inline_js() {\n    \n    if ((root.Bokeh !== undefined) || (force === true)) {\n      for (var i = 0; i < inline_js.length; i++) {\n        inline_js[i].call(root, root.Bokeh);\n      }if (force === true) {\n        display_loaded();\n      }} else if (Date.now() < root._bokeh_timeout) {\n      setTimeout(run_inline_js, 100);\n    } else if (!root._bokeh_failed_load) {\n      console.log(\"Bokeh: BokehJS failed to load within specified timeout.\");\n      root._bokeh_failed_load = true;\n    } else if (force !== true) {\n      var cell = $(document.getElementById(\"1051\")).parents('.cell').data().cell;\n      cell.output_area.append_execute_result(NB_LOAD_WARNING)\n    }\n\n  }\n\n  if (root._bokeh_is_loading === 0) {\n    console.log(\"Bokeh: BokehJS loaded, going straight to plotting\");\n    run_inline_js();\n  } else {\n    load_libs(js_urls, function() {\n      console.log(\"Bokeh: BokehJS plotting callback run at\", now());\n      run_inline_js();\n    });\n  }\n}(window));"
     },
     "metadata": {},
     "output_type": "display_data"
    },
    {
     "data": {
      "text/html": [
       "\n",
       "\n",
       "\n",
       "\n",
       "\n",
       "\n",
       "  <div class=\"bk-root\" id=\"1324afa4-9db9-497e-bc75-847b4c9eb1ff\"></div>\n"
      ]
     },
     "metadata": {},
     "output_type": "display_data"
    },
    {
     "data": {
      "application/javascript": [
       "(function(root) {\n",
       "  function embed_document(root) {\n",
       "    \n",
       "  var docs_json = {\"e80480c1-00c3-45ac-8edd-27891c093a0e\":{\"roots\":{\"references\":[{\"attributes\":{\"below\":[{\"id\":\"1011\",\"type\":\"MercatorAxis\"}],\"left\":[{\"id\":\"1020\",\"type\":\"MercatorAxis\"}],\"renderers\":[{\"id\":\"1011\",\"type\":\"MercatorAxis\"},{\"id\":\"1019\",\"type\":\"Grid\"},{\"id\":\"1020\",\"type\":\"MercatorAxis\"},{\"id\":\"1028\",\"type\":\"Grid\"},{\"id\":\"1037\",\"type\":\"BoxAnnotation\"},{\"id\":\"1044\",\"type\":\"TileRenderer\"},{\"id\":\"1049\",\"type\":\"GlyphRenderer\"}],\"title\":{\"id\":\"1053\",\"type\":\"Title\"},\"toolbar\":{\"id\":\"1035\",\"type\":\"Toolbar\"},\"x_range\":{\"id\":\"1003\",\"type\":\"DataRange1d\"},\"x_scale\":{\"id\":\"1007\",\"type\":\"LinearScale\"},\"y_range\":{\"id\":\"1005\",\"type\":\"DataRange1d\"},\"y_scale\":{\"id\":\"1009\",\"type\":\"LinearScale\"}},\"id\":\"1002\",\"subtype\":\"Figure\",\"type\":\"Plot\"},{\"attributes\":{\"fill_alpha\":{\"value\":0.1},\"fill_color\":{\"value\":\"#1f77b4\"},\"line_alpha\":{\"value\":0.1},\"line_color\":{\"value\":\"#1f77b4\"},\"x\":{\"field\":\"x\"},\"y\":{\"field\":\"y\"}},\"id\":\"1048\",\"type\":\"Circle\"},{\"attributes\":{\"callback\":null},\"id\":\"1003\",\"type\":\"DataRange1d\"},{\"attributes\":{},\"id\":\"1029\",\"type\":\"PanTool\"},{\"attributes\":{},\"id\":\"1030\",\"type\":\"WheelZoomTool\"},{\"attributes\":{\"overlay\":{\"id\":\"1037\",\"type\":\"BoxAnnotation\"}},\"id\":\"1031\",\"type\":\"BoxZoomTool\"},{\"attributes\":{},\"id\":\"1032\",\"type\":\"SaveTool\"},{\"attributes\":{},\"id\":\"1033\",\"type\":\"ResetTool\"},{\"attributes\":{\"callback\":null},\"id\":\"1005\",\"type\":\"DataRange1d\"},{\"attributes\":{},\"id\":\"1034\",\"type\":\"HelpTool\"},{\"attributes\":{},\"id\":\"1007\",\"type\":\"LinearScale\"},{\"attributes\":{\"active_drag\":\"auto\",\"active_inspect\":\"auto\",\"active_multi\":null,\"active_scroll\":\"auto\",\"active_tap\":\"auto\",\"tools\":[{\"id\":\"1029\",\"type\":\"PanTool\"},{\"id\":\"1030\",\"type\":\"WheelZoomTool\"},{\"id\":\"1031\",\"type\":\"BoxZoomTool\"},{\"id\":\"1032\",\"type\":\"SaveTool\"},{\"id\":\"1033\",\"type\":\"ResetTool\"},{\"id\":\"1034\",\"type\":\"HelpTool\"}]},\"id\":\"1035\",\"type\":\"Toolbar\"},{\"attributes\":{},\"id\":\"1009\",\"type\":\"LinearScale\"},{\"attributes\":{\"fill_color\":{\"value\":\"#1f77b4\"},\"line_color\":{\"value\":\"#1f77b4\"},\"x\":{\"field\":\"x\"},\"y\":{\"field\":\"y\"}},\"id\":\"1047\",\"type\":\"Circle\"},{\"attributes\":{\"formatter\":{\"id\":\"1014\",\"type\":\"MercatorTickFormatter\"},\"plot\":{\"id\":\"1002\",\"subtype\":\"Figure\",\"type\":\"Plot\"},\"ticker\":{\"id\":\"1012\",\"type\":\"MercatorTicker\"}},\"id\":\"1011\",\"type\":\"MercatorAxis\"},{\"attributes\":{\"bottom_units\":\"screen\",\"fill_alpha\":{\"value\":0.5},\"fill_color\":{\"value\":\"lightgrey\"},\"left_units\":\"screen\",\"level\":\"overlay\",\"line_alpha\":{\"value\":1.0},\"line_color\":{\"value\":\"black\"},\"line_dash\":[4,4],\"line_width\":{\"value\":2},\"plot\":null,\"render_mode\":\"css\",\"right_units\":\"screen\",\"top_units\":\"screen\"},\"id\":\"1037\",\"type\":\"BoxAnnotation\"},{\"attributes\":{\"dimension\":\"lon\"},\"id\":\"1012\",\"type\":\"MercatorTicker\"},{\"attributes\":{\"data_source\":{\"id\":\"1046\",\"type\":\"ColumnDataSource\"},\"glyph\":{\"id\":\"1047\",\"type\":\"Circle\"},\"hover_glyph\":null,\"muted_glyph\":null,\"nonselection_glyph\":{\"id\":\"1048\",\"type\":\"Circle\"},\"selection_glyph\":null,\"view\":{\"id\":\"1050\",\"type\":\"CDSView\"}},\"id\":\"1049\",\"type\":\"GlyphRenderer\"},{\"attributes\":{\"dimension\":\"lon\"},\"id\":\"1014\",\"type\":\"MercatorTickFormatter\"},{\"attributes\":{\"source\":{\"id\":\"1046\",\"type\":\"ColumnDataSource\"}},\"id\":\"1050\",\"type\":\"CDSView\"},{\"attributes\":{\"plot\":{\"id\":\"1002\",\"subtype\":\"Figure\",\"type\":\"Plot\"},\"ticker\":{\"id\":\"1012\",\"type\":\"MercatorTicker\"}},\"id\":\"1019\",\"type\":\"Grid\"},{\"attributes\":{\"formatter\":{\"id\":\"1023\",\"type\":\"MercatorTickFormatter\"},\"plot\":{\"id\":\"1002\",\"subtype\":\"Figure\",\"type\":\"Plot\"},\"ticker\":{\"id\":\"1021\",\"type\":\"MercatorTicker\"}},\"id\":\"1020\",\"type\":\"MercatorAxis\"},{\"attributes\":{\"dimension\":\"lat\"},\"id\":\"1021\",\"type\":\"MercatorTicker\"},{\"attributes\":{\"attribution\":\"&copy; <a href=\\\"https://www.openstreetmap.org/copyright\\\">OpenStreetMap</a> contributors,&copy; <a href=\\\"https://cartodb.com/attributions\\\">CartoDB</a>\",\"url\":\"https://tiles.basemaps.cartocdn.com/light_all/{z}/{x}/{y}.png\"},\"id\":\"1001\",\"type\":\"WMTSTileSource\"},{\"attributes\":{\"tile_source\":{\"id\":\"1001\",\"type\":\"WMTSTileSource\"}},\"id\":\"1044\",\"type\":\"TileRenderer\"},{\"attributes\":{\"dimension\":\"lat\"},\"id\":\"1023\",\"type\":\"MercatorTickFormatter\"},{\"attributes\":{},\"id\":\"1059\",\"type\":\"UnionRenderers\"},{\"attributes\":{\"plot\":null,\"text\":\"\"},\"id\":\"1053\",\"type\":\"Title\"},{\"attributes\":{\"dimension\":1,\"plot\":{\"id\":\"1002\",\"subtype\":\"Figure\",\"type\":\"Plot\"},\"ticker\":{\"id\":\"1021\",\"type\":\"MercatorTicker\"}},\"id\":\"1028\",\"type\":\"Grid\"},{\"attributes\":{},\"id\":\"1060\",\"type\":\"Selection\"},{\"attributes\":{\"callback\":null,\"data\":{\"x\":{\"__ndarray__\":\"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\",\"dtype\":\"float64\",\"shape\":[1829]},\"y\":{\"__ndarray__\":\"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\",\"dtype\":\"float64\",\"shape\":[1829]}},\"selected\":{\"id\":\"1060\",\"type\":\"Selection\"},\"selection_policy\":{\"id\":\"1059\",\"type\":\"UnionRenderers\"}},\"id\":\"1046\",\"type\":\"ColumnDataSource\"}],\"root_ids\":[\"1002\"]},\"title\":\"Bokeh Application\",\"version\":\"1.0.2\"}};\n",
       "  var render_items = [{\"docid\":\"e80480c1-00c3-45ac-8edd-27891c093a0e\",\"roots\":{\"1002\":\"1324afa4-9db9-497e-bc75-847b4c9eb1ff\"}}];\n",
       "  root.Bokeh.embed.embed_items_notebook(docs_json, render_items);\n",
       "\n",
       "  }\n",
       "  if (root.Bokeh !== undefined) {\n",
       "    embed_document(root);\n",
       "  } else {\n",
       "    var attempts = 0;\n",
       "    var timer = setInterval(function(root) {\n",
       "      if (root.Bokeh !== undefined) {\n",
       "        embed_document(root);\n",
       "        clearInterval(timer);\n",
       "      }\n",
       "      attempts++;\n",
       "      if (attempts > 100) {\n",
       "        console.log(\"Bokeh: ERROR: Unable to run BokehJS code because BokehJS library is missing\");\n",
       "        clearInterval(timer);\n",
       "      }\n",
       "    }, 10, root)\n",
       "  }\n",
       "})(window);"
      ],
      "application/vnd.bokehjs_exec.v0+json": ""
     },
     "metadata": {
      "application/vnd.bokehjs_exec.v0+json": {
       "id": "1002"
      }
     },
     "output_type": "display_data"
    }
   ],
   "source": [
    "from bokeh.plotting import figure, show, output_notebook\n",
    "from bokeh.tile_providers import CARTODBPOSITRON\n",
    "\n",
    "p = figure(x_axis_type=\"mercator\", y_axis_type=\"mercator\")\n",
    "p.add_tile(CARTODBPOSITRON)\n",
    "p.circle(x = data['longitude'], y = data['latitude'])\n",
    "output_notebook()\n",
    "show(p)"
   ]
  },
  {
   "cell_type": "code",
   "execution_count": null,
   "metadata": {},
   "outputs": [],
   "source": []
  },
  {
   "cell_type": "code",
   "execution_count": null,
   "metadata": {},
   "outputs": [],
   "source": []
  }
 ],
 "metadata": {
  "kernelspec": {
   "display_name": "Python 3",
   "language": "python",
   "name": "python3"
  },
  "language_info": {
   "codemirror_mode": {
    "name": "ipython",
    "version": 3
   },
   "file_extension": ".py",
   "mimetype": "text/x-python",
   "name": "python",
   "nbconvert_exporter": "python",
   "pygments_lexer": "ipython3",
   "version": "3.7.2"
  }
 },
 "nbformat": 4,
 "nbformat_minor": 2
}
