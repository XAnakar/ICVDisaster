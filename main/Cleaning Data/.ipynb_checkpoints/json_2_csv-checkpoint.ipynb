{
 "cells": [
  {
   "cell_type": "code",
   "execution_count": 38,
   "metadata": {},
   "outputs": [],
   "source": [
    "import json, csv, string, datetime, re\n",
    "from dateutil.parser import parse\n",
    "import pandas as pd\n",
    "import numpy as np\n",
    "\n",
    "from nltk.tokenize import TweetTokenizer\n",
    "from nltk.stem.snowball import SnowballStemmer \n",
    "from nltk.corpus import stopwords"
   ]
  },
  {
   "cell_type": "markdown",
   "metadata": {},
   "source": [
    "### Lendo e Visualizando os dados"
   ]
  },
  {
   "cell_type": "code",
   "execution_count": 39,
   "metadata": {},
   "outputs": [
    {
     "data": {
      "text/html": [
       "<div>\n",
       "<style scoped>\n",
       "    .dataframe tbody tr th:only-of-type {\n",
       "        vertical-align: middle;\n",
       "    }\n",
       "\n",
       "    .dataframe tbody tr th {\n",
       "        vertical-align: top;\n",
       "    }\n",
       "\n",
       "    .dataframe thead th {\n",
       "        text-align: right;\n",
       "    }\n",
       "</style>\n",
       "<table border=\"1\" class=\"dataframe\">\n",
       "  <thead>\n",
       "    <tr style=\"text-align: right;\">\n",
       "      <th></th>\n",
       "      <th>data</th>\n",
       "      <th>geo</th>\n",
       "      <th>id</th>\n",
       "      <th>nome</th>\n",
       "      <th>text</th>\n",
       "    </tr>\n",
       "  </thead>\n",
       "  <tbody>\n",
       "    <tr>\n",
       "      <th>0</th>\n",
       "      <td>Sun May 06 20:41:33 +0000 2018</td>\n",
       "      <td>[19.59433331, -155.97172783]</td>\n",
       "      <td>2.379071e+09</td>\n",
       "      <td>tiedyehobo</td>\n",
       "      <td>majic sands beach, kona hawaiiawesome tunes by...</td>\n",
       "    </tr>\n",
       "    <tr>\n",
       "      <th>1</th>\n",
       "      <td>Sun May 06 20:33:41 +0000 2018</td>\n",
       "      <td>[19.56034, -154.9866]</td>\n",
       "      <td>2.929292e+07</td>\n",
       "      <td>queeraspoetry</td>\n",
       "      <td>Good am! 🤙🌋 @ Center for Spiritual Living in H...</td>\n",
       "    </tr>\n",
       "    <tr>\n",
       "      <th>2</th>\n",
       "      <td>Sun May 06 20:30:04 +0000 2018</td>\n",
       "      <td>[19.0781667, -155.1876667]</td>\n",
       "      <td>8.149151e+17</td>\n",
       "      <td>Hazards_Network</td>\n",
       "      <td>Monday-January-2018::15:14: An earthquake of m...</td>\n",
       "    </tr>\n",
       "    <tr>\n",
       "      <th>3</th>\n",
       "      <td>Sun May 06 20:09:43 +0000 2018</td>\n",
       "      <td>[20.02027778, -155.66777778]</td>\n",
       "      <td>4.142280e+08</td>\n",
       "      <td>NaomiCooper808</td>\n",
       "      <td>#vacay #Ladat @ Waimea, Hawaii County, Hawai</td>\n",
       "    </tr>\n",
       "    <tr>\n",
       "      <th>4</th>\n",
       "      <td>Sun May 06 19:46:08 +0000 2018</td>\n",
       "      <td>[19.65, -155.994]</td>\n",
       "      <td>2.011251e+07</td>\n",
       "      <td>vioart527</td>\n",
       "      <td>Last sunset in Hawaii . . . until next time,</td>\n",
       "    </tr>\n",
       "  </tbody>\n",
       "</table>\n",
       "</div>"
      ],
      "text/plain": [
       "                             data                           geo            id  \\\n",
       "0  Sun May 06 20:41:33 +0000 2018  [19.59433331, -155.97172783]  2.379071e+09   \n",
       "1  Sun May 06 20:33:41 +0000 2018         [19.56034, -154.9866]  2.929292e+07   \n",
       "2  Sun May 06 20:30:04 +0000 2018    [19.0781667, -155.1876667]  8.149151e+17   \n",
       "3  Sun May 06 20:09:43 +0000 2018  [20.02027778, -155.66777778]  4.142280e+08   \n",
       "4  Sun May 06 19:46:08 +0000 2018             [19.65, -155.994]  2.011251e+07   \n",
       "\n",
       "              nome                                               text  \n",
       "0       tiedyehobo  majic sands beach, kona hawaiiawesome tunes by...  \n",
       "1    queeraspoetry  Good am! 🤙🌋 @ Center for Spiritual Living in H...  \n",
       "2  Hazards_Network  Monday-January-2018::15:14: An earthquake of m...  \n",
       "3   NaomiCooper808       #vacay #Ladat @ Waimea, Hawaii County, Hawai  \n",
       "4        vioart527       Last sunset in Hawaii . . . until next time,  "
      ]
     },
     "execution_count": 39,
     "metadata": {},
     "output_type": "execute_result"
    }
   ],
   "source": [
    "data = pd.read_json('DATASET.json', lines = True)\n",
    "data.head()"
   ]
  },
  {
   "cell_type": "code",
   "execution_count": 40,
   "metadata": {},
   "outputs": [],
   "source": [
    "def remove_numbers(text):\n",
    "    return re.sub(r'\\d+', '', text)\n",
    "\n",
    "def remove_dots(text):\n",
    "    return  re.compile(\n",
    "        f'[{re.escape(string.punctuation)}]'\n",
    "    ).sub(' ', text)\n",
    "\n",
    "def remove_stopwords(text):\n",
    "    stemmer = SnowballStemmer(\"english\")\n",
    "    make    = TweetTokenizer()\n",
    "    tokens  = make.tokenize( remove_dots( remove_numbers(text) ) )\n",
    "    return [w.lower() for w in tokens if not w in set(stopwords.words('english'))]"
   ]
  },
  {
   "cell_type": "markdown",
   "metadata": {},
   "source": [
    "### Formatando datas"
   ]
  },
  {
   "cell_type": "code",
   "execution_count": 41,
   "metadata": {
    "scrolled": true
   },
   "outputs": [],
   "source": [
    "def parse_datetime(value):\n",
    "    time_tuple = parsedate_tz(value)\n",
    "    timestamp  = mktime_tz(time_tuple)\n",
    "    return datetime.datetime.fromtimestamp(timestamp)\n",
    "\n",
    "times = {\n",
    "    \"data\": [],\n",
    "    \"time\": [],\n",
    "    \"lat\":  [], \n",
    "    \"long\": [] \n",
    "}\n",
    "\n",
    "for x, k in zip(data['data'].apply(parse), data['geo']):\n",
    "    time_out = str(x).split(\" \")\n",
    "    geo_out  = k.replace(\"[\",\"\").replace(\"]\",\"\").split(',')\n",
    "    times[\"data\"].append(time_out[0])\n",
    "    times[\"time\"].append(str(time_out[1]).replace(\"+00:00\",\"\"))\n",
    "    times[\"lat\"].append(geo_out[0])\n",
    "    times[\"long\"].append(geo_out[1])\n",
    "    \n",
    "#Atualizações no dataframe\n",
    "data['data'] = pd.Series(times['data'])\n",
    "data['time'] = pd.Series(times['time'])\n",
    "data['lat']  = pd.Series(times['lat'])\n",
    "data['long'] = pd.Series(times['long'])\n",
    "data.pop('geo')\n",
    "data.columns = ['date', 'id_str', 'user_name', 'text', 'time', 'latitude', 'longitude']"
   ]
  },
  {
   "cell_type": "markdown",
   "metadata": {},
   "source": [
    "### Aplicando filtro no campo text"
   ]
  },
  {
   "cell_type": "code",
   "execution_count": 42,
   "metadata": {},
   "outputs": [],
   "source": [
    "for k, x in enumerate(data['text']):\n",
    "    data.loc[k,'text'] = str(\" \".join(remove_stopwords(x)))"
   ]
  },
  {
   "cell_type": "markdown",
   "metadata": {},
   "source": [
    "### Salvando em csv"
   ]
  },
  {
   "cell_type": "code",
   "execution_count": 43,
   "metadata": {},
   "outputs": [],
   "source": [
    "data.to_csv(\"DATASET.csv\",  index = None)"
   ]
  },
  {
   "cell_type": "markdown",
   "metadata": {},
   "source": [
    "###  Depois do processo"
   ]
  },
  {
   "cell_type": "code",
   "execution_count": 28,
   "metadata": {},
   "outputs": [
    {
     "data": {
      "text/html": [
       "<div>\n",
       "<style scoped>\n",
       "    .dataframe tbody tr th:only-of-type {\n",
       "        vertical-align: middle;\n",
       "    }\n",
       "\n",
       "    .dataframe tbody tr th {\n",
       "        vertical-align: top;\n",
       "    }\n",
       "\n",
       "    .dataframe thead th {\n",
       "        text-align: right;\n",
       "    }\n",
       "</style>\n",
       "<table border=\"1\" class=\"dataframe\">\n",
       "  <thead>\n",
       "    <tr style=\"text-align: right;\">\n",
       "      <th></th>\n",
       "      <th>date</th>\n",
       "      <th>id_str</th>\n",
       "      <th>user_name</th>\n",
       "      <th>text</th>\n",
       "      <th>time</th>\n",
       "      <th>latitude</th>\n",
       "      <th>longitude</th>\n",
       "    </tr>\n",
       "  </thead>\n",
       "  <tbody>\n",
       "    <tr>\n",
       "      <th>0</th>\n",
       "      <td>2018-05-06</td>\n",
       "      <td>2.379071e+09</td>\n",
       "      <td>tiedyehobo</td>\n",
       "      <td>majic sands beach kona hawaiiawesome tunes car...</td>\n",
       "      <td>20:41:33</td>\n",
       "      <td>19.59433331</td>\n",
       "      <td>-155.97172783</td>\n",
       "    </tr>\n",
       "    <tr>\n",
       "      <th>1</th>\n",
       "      <td>2018-05-06</td>\n",
       "      <td>2.929292e+07</td>\n",
       "      <td>queeraspoetry</td>\n",
       "      <td>good 🤙 🌋 center spiritual living hawai</td>\n",
       "      <td>20:33:41</td>\n",
       "      <td>19.56034</td>\n",
       "      <td>-154.9866</td>\n",
       "    </tr>\n",
       "    <tr>\n",
       "      <th>2</th>\n",
       "      <td>2018-05-06</td>\n",
       "      <td>8.149151e+17</td>\n",
       "      <td>Hazards_Network</td>\n",
       "      <td>monday january an earthquake magnitude shook k...</td>\n",
       "      <td>20:30:04</td>\n",
       "      <td>19.0781667</td>\n",
       "      <td>-155.1876667</td>\n",
       "    </tr>\n",
       "    <tr>\n",
       "      <th>3</th>\n",
       "      <td>2018-05-06</td>\n",
       "      <td>4.142280e+08</td>\n",
       "      <td>NaomiCooper808</td>\n",
       "      <td>vacay ladat waimea hawaii county hawai</td>\n",
       "      <td>20:09:43</td>\n",
       "      <td>20.02027778</td>\n",
       "      <td>-155.66777778</td>\n",
       "    </tr>\n",
       "    <tr>\n",
       "      <th>4</th>\n",
       "      <td>2018-05-06</td>\n",
       "      <td>2.011251e+07</td>\n",
       "      <td>vioart527</td>\n",
       "      <td>last sunset hawaii next time</td>\n",
       "      <td>19:46:08</td>\n",
       "      <td>19.65</td>\n",
       "      <td>-155.994</td>\n",
       "    </tr>\n",
       "  </tbody>\n",
       "</table>\n",
       "</div>"
      ],
      "text/plain": [
       "         date        id_str        user_name  \\\n",
       "0  2018-05-06  2.379071e+09       tiedyehobo   \n",
       "1  2018-05-06  2.929292e+07    queeraspoetry   \n",
       "2  2018-05-06  8.149151e+17  Hazards_Network   \n",
       "3  2018-05-06  4.142280e+08   NaomiCooper808   \n",
       "4  2018-05-06  2.011251e+07        vioart527   \n",
       "\n",
       "                                                text      time     latitude  \\\n",
       "0  majic sands beach kona hawaiiawesome tunes car...  20:41:33  19.59433331   \n",
       "1             good 🤙 🌋 center spiritual living hawai  20:33:41     19.56034   \n",
       "2  monday january an earthquake magnitude shook k...  20:30:04   19.0781667   \n",
       "3             vacay ladat waimea hawaii county hawai  20:09:43  20.02027778   \n",
       "4                       last sunset hawaii next time  19:46:08        19.65   \n",
       "\n",
       "        longitude  \n",
       "0   -155.97172783  \n",
       "1       -154.9866  \n",
       "2    -155.1876667  \n",
       "3   -155.66777778  \n",
       "4        -155.994  "
      ]
     },
     "execution_count": 28,
     "metadata": {},
     "output_type": "execute_result"
    }
   ],
   "source": [
    "data.head()"
   ]
  },
  {
   "cell_type": "code",
   "execution_count": null,
   "metadata": {},
   "outputs": [],
   "source": []
  }
 ],
 "metadata": {
  "kernelspec": {
   "display_name": "Python 3",
   "language": "python",
   "name": "python3"
  },
  "language_info": {
   "codemirror_mode": {
    "name": "ipython",
    "version": 3
   },
   "file_extension": ".py",
   "mimetype": "text/x-python",
   "name": "python",
   "nbconvert_exporter": "python",
   "pygments_lexer": "ipython3",
   "version": "3.7.3"
  }
 },
 "nbformat": 4,
 "nbformat_minor": 2
}
