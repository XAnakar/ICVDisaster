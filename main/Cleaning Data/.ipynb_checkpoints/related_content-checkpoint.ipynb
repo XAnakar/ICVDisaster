{
 "cells": [
  {
   "cell_type": "code",
   "execution_count": 133,
   "metadata": {},
   "outputs": [],
   "source": [
    "import json, csv, string, re, emoji\n",
    "import pandas as pd\n",
    "import numpy  as np\n",
    "\n",
    "from nltk.tokenize import TweetTokenizer\n",
    "from nltk.stem.snowball import SnowballStemmer\n",
    "from nltk.corpus import stopwords"
   ]
  },
  {
   "cell_type": "code",
   "execution_count": 134,
   "metadata": {},
   "outputs": [],
   "source": [
    "data = pd.read_csv('DATASET.csv')"
   ]
  },
  {
   "cell_type": "markdown",
   "metadata": {},
   "source": [
    "### Removendo linhas com valores Nans"
   ]
  },
  {
   "cell_type": "code",
   "execution_count": 135,
   "metadata": {},
   "outputs": [],
   "source": [
    "data.dropna(inplace = True)"
   ]
  },
  {
   "cell_type": "code",
   "execution_count": 136,
   "metadata": {},
   "outputs": [],
   "source": [
    "def normalize_words():\n",
    "    arq = open('disasters_words.txt').readlines()\n",
    "    text = \" \".join(arq).replace(',',' ').lower().split(' ')\n",
    "    return sorted(set([x for x in text if len(x) > 1]))"
   ]
  },
  {
   "cell_type": "code",
   "execution_count": 137,
   "metadata": {},
   "outputs": [
    {
     "data": {
      "text/plain": [
       "268"
      ]
     },
     "execution_count": 137,
     "metadata": {},
     "output_type": "execute_result"
    }
   ],
   "source": [
    "words = normalize_words()\n",
    "len(words)"
   ]
  },
  {
   "cell_type": "markdown",
   "metadata": {},
   "source": [
    "### Normalizando texto e verificando interesse do texto"
   ]
  },
  {
   "cell_type": "code",
   "execution_count": 138,
   "metadata": {
    "scrolled": true
   },
   "outputs": [],
   "source": [
    "#Tamanho médio das palavras em inglês https://arxiv.org/pdf/1208.6109.pdf\n",
    "#Cria uma dataSerie para ser adicionado ao dataFrame\n",
    "a = []    \n",
    "def normalize_text():\n",
    "    \n",
    "    data['interest'] = 0\n",
    "    \n",
    "    for index in data.index:\n",
    "        text = data['text'][index]\n",
    "        result = pd.Index(str(text).split()).intersection(pd.Index(words)) \n",
    "        \n",
    "        if len(result) != 0:\n",
    "            a.append(result[0])\n",
    "            data.loc[index, 'interest'] = 1\n",
    "normalize_text()"
   ]
  },
  {
   "cell_type": "code",
   "execution_count": 139,
   "metadata": {},
   "outputs": [],
   "source": [
    "#Do dicionário, essas são as palavras que retornaram!\n",
    "result = {}\n",
    "for x in sorted(a):\n",
    "    qtd = len(data[data['text'].str.contains(x)])\n",
    "    result.update({x: qtd})"
   ]
  },
  {
   "cell_type": "code",
   "execution_count": 140,
   "metadata": {},
   "outputs": [
    {
     "data": {
      "text/plain": [
       "{'active': 7,\n",
       " 'afraid': 1,\n",
       " 'aid': 13,\n",
       " 'assistance': 1,\n",
       " 'bench': 1,\n",
       " 'bigisland': 80,\n",
       " 'broken': 1,\n",
       " 'condo': 1,\n",
       " 'crater': 12,\n",
       " 'crowd': 1,\n",
       " 'danger': 2,\n",
       " 'death': 5,\n",
       " 'destroyed': 6,\n",
       " 'direction': 1,\n",
       " 'earthquake': 1677,\n",
       " 'emergency': 8,\n",
       " 'erupting': 10,\n",
       " 'eruption': 16,\n",
       " 'evacuation': 2,\n",
       " 'evacuee': 3,\n",
       " 'fire': 19,\n",
       " 'heavy': 2,\n",
       " 'help': 11,\n",
       " 'kilauea': 43,\n",
       " 'lava': 76,\n",
       " 'leadership': 1,\n",
       " 'leave': 12,\n",
       " 'leilani': 675,\n",
       " 'lost': 1,\n",
       " 'lua': 223,\n",
       " 'magnitude': 1399,\n",
       " 'meal': 4,\n",
       " 'path': 2,\n",
       " 'pele': 25,\n",
       " 'prayers': 2,\n",
       " 'road': 29,\n",
       " 'safe': 16,\n",
       " 'safety': 2,\n",
       " 'scared': 1,\n",
       " 'service': 80,\n",
       " 'shelter': 2,\n",
       " 'sismo': 293,\n",
       " 'situation': 3,\n",
       " 'smashed': 1,\n",
       " 'smoke': 3,\n",
       " 'store': 46,\n",
       " 'support': 3,\n",
       " 'survive': 3,\n",
       " 'temblor': 7,\n",
       " 'terremoto': 258,\n",
       " 'volcanic': 2,\n",
       " 'volcano': 686,\n",
       " 'volcanoes': 21,\n",
       " 'volcanowatch': 6,\n",
       " 'vulcanoes': 6,\n",
       " 'vulcão': 1}"
      ]
     },
     "execution_count": 140,
     "metadata": {},
     "output_type": "execute_result"
    }
   ],
   "source": [
    "result"
   ]
  },
  {
   "cell_type": "markdown",
   "metadata": {},
   "source": [
    "### Removendo linhas nulas"
   ]
  },
  {
   "cell_type": "code",
   "execution_count": 141,
   "metadata": {
    "scrolled": true
   },
   "outputs": [
    {
     "data": {
      "text/html": [
       "<div>\n",
       "<style scoped>\n",
       "    .dataframe tbody tr th:only-of-type {\n",
       "        vertical-align: middle;\n",
       "    }\n",
       "\n",
       "    .dataframe tbody tr th {\n",
       "        vertical-align: top;\n",
       "    }\n",
       "\n",
       "    .dataframe thead th {\n",
       "        text-align: right;\n",
       "    }\n",
       "</style>\n",
       "<table border=\"1\" class=\"dataframe\">\n",
       "  <thead>\n",
       "    <tr style=\"text-align: right;\">\n",
       "      <th></th>\n",
       "      <th>date</th>\n",
       "      <th>id_str</th>\n",
       "      <th>user_name</th>\n",
       "      <th>text</th>\n",
       "      <th>time</th>\n",
       "      <th>latitude</th>\n",
       "      <th>longitude</th>\n",
       "      <th>interest</th>\n",
       "    </tr>\n",
       "  </thead>\n",
       "  <tbody>\n",
       "    <tr>\n",
       "      <th>2</th>\n",
       "      <td>2018-05-06</td>\n",
       "      <td>8.149151e+17</td>\n",
       "      <td>Hazards_Network</td>\n",
       "      <td>monday january an earthquake magnitude shook k...</td>\n",
       "      <td>20:30:04</td>\n",
       "      <td>19.078167</td>\n",
       "      <td>-155.187667</td>\n",
       "      <td>1</td>\n",
       "    </tr>\n",
       "    <tr>\n",
       "      <th>6</th>\n",
       "      <td>2018-05-06</td>\n",
       "      <td>1.864570e+07</td>\n",
       "      <td>syvideo</td>\n",
       "      <td>adventures covering lava flow hilo hi leilani ...</td>\n",
       "      <td>18:18:05</td>\n",
       "      <td>19.473500</td>\n",
       "      <td>-154.920000</td>\n",
       "      <td>1</td>\n",
       "    </tr>\n",
       "    <tr>\n",
       "      <th>9</th>\n",
       "      <td>2018-05-06</td>\n",
       "      <td>1.714726e+09</td>\n",
       "      <td>itsnotben</td>\n",
       "      <td>hawaii round hours airplane earthquakes volcan...</td>\n",
       "      <td>17:38:12</td>\n",
       "      <td>19.431649</td>\n",
       "      <td>-155.216870</td>\n",
       "      <td>1</td>\n",
       "    </tr>\n",
       "    <tr>\n",
       "      <th>10</th>\n",
       "      <td>2018-05-06</td>\n",
       "      <td>2.918153e+09</td>\n",
       "      <td>eq_map_es</td>\n",
       "      <td>【 m 】 isla de hawaii hawaii km utc sismo terre...</td>\n",
       "      <td>13:30:49</td>\n",
       "      <td>19.046000</td>\n",
       "      <td>-155.173000</td>\n",
       "      <td>1</td>\n",
       "    </tr>\n",
       "    <tr>\n",
       "      <th>14</th>\n",
       "      <td>2018-05-06</td>\n",
       "      <td>8.149151e+17</td>\n",
       "      <td>Hazards_Network</td>\n",
       "      <td>monday january an earthquake magnitude shook k...</td>\n",
       "      <td>08:20:04</td>\n",
       "      <td>19.371334</td>\n",
       "      <td>-155.033829</td>\n",
       "      <td>1</td>\n",
       "    </tr>\n",
       "  </tbody>\n",
       "</table>\n",
       "</div>"
      ],
      "text/plain": [
       "          date        id_str        user_name  \\\n",
       "2   2018-05-06  8.149151e+17  Hazards_Network   \n",
       "6   2018-05-06  1.864570e+07          syvideo   \n",
       "9   2018-05-06  1.714726e+09        itsnotben   \n",
       "10  2018-05-06  2.918153e+09        eq_map_es   \n",
       "14  2018-05-06  8.149151e+17  Hazards_Network   \n",
       "\n",
       "                                                 text      time   latitude  \\\n",
       "2   monday january an earthquake magnitude shook k...  20:30:04  19.078167   \n",
       "6   adventures covering lava flow hilo hi leilani ...  18:18:05  19.473500   \n",
       "9   hawaii round hours airplane earthquakes volcan...  17:38:12  19.431649   \n",
       "10  【 m 】 isla de hawaii hawaii km utc sismo terre...  13:30:49  19.046000   \n",
       "14  monday january an earthquake magnitude shook k...  08:20:04  19.371334   \n",
       "\n",
       "     longitude  interest  \n",
       "2  -155.187667         1  \n",
       "6  -154.920000         1  \n",
       "9  -155.216870         1  \n",
       "10 -155.173000         1  \n",
       "14 -155.033829         1  "
      ]
     },
     "execution_count": 141,
     "metadata": {},
     "output_type": "execute_result"
    }
   ],
   "source": [
    "data = data[data['interest'] == 1]\n",
    "data.head()"
   ]
  },
  {
   "cell_type": "code",
   "execution_count": 142,
   "metadata": {},
   "outputs": [],
   "source": [
    "data.to_csv(\"DATASET_interests.csv\",  index = None)"
   ]
  },
  {
   "cell_type": "code",
   "execution_count": null,
   "metadata": {},
   "outputs": [],
   "source": []
  },
  {
   "cell_type": "code",
   "execution_count": null,
   "metadata": {},
   "outputs": [],
   "source": []
  },
  {
   "cell_type": "code",
   "execution_count": null,
   "metadata": {},
   "outputs": [],
   "source": []
  }
 ],
 "metadata": {
  "kernelspec": {
   "display_name": "Python 3",
   "language": "python",
   "name": "python3"
  },
  "language_info": {
   "codemirror_mode": {
    "name": "ipython",
    "version": 3
   },
   "file_extension": ".py",
   "mimetype": "text/x-python",
   "name": "python",
   "nbconvert_exporter": "python",
   "pygments_lexer": "ipython3",
   "version": "3.7.3"
  }
 },
 "nbformat": 4,
 "nbformat_minor": 2
}
