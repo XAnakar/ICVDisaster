{
 "cells": [
  {
   "cell_type": "code",
   "execution_count": 133,
   "metadata": {},
   "outputs": [],
   "source": [
    "import json, csv, string, datetime\n",
    "from dateutil.parser import parse\n",
    "import pandas as pd\n",
    "import numpy as np"
   ]
  },
  {
   "cell_type": "code",
   "execution_count": 134,
   "metadata": {},
   "outputs": [
    {
     "data": {
      "text/html": [
       "<div>\n",
       "<style scoped>\n",
       "    .dataframe tbody tr th:only-of-type {\n",
       "        vertical-align: middle;\n",
       "    }\n",
       "\n",
       "    .dataframe tbody tr th {\n",
       "        vertical-align: top;\n",
       "    }\n",
       "\n",
       "    .dataframe thead th {\n",
       "        text-align: right;\n",
       "    }\n",
       "</style>\n",
       "<table border=\"1\" class=\"dataframe\">\n",
       "  <thead>\n",
       "    <tr style=\"text-align: right;\">\n",
       "      <th></th>\n",
       "      <th>date</th>\n",
       "      <th>id_str</th>\n",
       "      <th>user_name</th>\n",
       "      <th>text</th>\n",
       "      <th>time</th>\n",
       "      <th>latitude</th>\n",
       "      <th>longitude</th>\n",
       "      <th>interest</th>\n",
       "    </tr>\n",
       "  </thead>\n",
       "  <tbody>\n",
       "    <tr>\n",
       "      <th>0</th>\n",
       "      <td>2018-05-06</td>\n",
       "      <td>8.149151e+17</td>\n",
       "      <td>Hazards_Network</td>\n",
       "      <td>monday january an earthquake magnitude shook k...</td>\n",
       "      <td>20:30:04</td>\n",
       "      <td>19.078167</td>\n",
       "      <td>-155.187667</td>\n",
       "      <td>1</td>\n",
       "    </tr>\n",
       "    <tr>\n",
       "      <th>1</th>\n",
       "      <td>2018-05-06</td>\n",
       "      <td>1.864570e+07</td>\n",
       "      <td>syvideo</td>\n",
       "      <td>adventures covering lava flow hilo hi leilani ...</td>\n",
       "      <td>18:18:05</td>\n",
       "      <td>19.473500</td>\n",
       "      <td>-154.920000</td>\n",
       "      <td>1</td>\n",
       "    </tr>\n",
       "    <tr>\n",
       "      <th>2</th>\n",
       "      <td>2018-05-06</td>\n",
       "      <td>1.714726e+09</td>\n",
       "      <td>itsnotben</td>\n",
       "      <td>hawaii round hours airplane earthquakes volcan...</td>\n",
       "      <td>17:38:12</td>\n",
       "      <td>19.431649</td>\n",
       "      <td>-155.216870</td>\n",
       "      <td>1</td>\n",
       "    </tr>\n",
       "    <tr>\n",
       "      <th>3</th>\n",
       "      <td>2018-05-06</td>\n",
       "      <td>2.918153e+09</td>\n",
       "      <td>eq_map_es</td>\n",
       "      <td>【 m 】 isla de hawaii hawaii km utc sismo terre...</td>\n",
       "      <td>13:30:49</td>\n",
       "      <td>19.046000</td>\n",
       "      <td>-155.173000</td>\n",
       "      <td>1</td>\n",
       "    </tr>\n",
       "    <tr>\n",
       "      <th>4</th>\n",
       "      <td>2018-05-06</td>\n",
       "      <td>8.149151e+17</td>\n",
       "      <td>Hazards_Network</td>\n",
       "      <td>monday january an earthquake magnitude shook k...</td>\n",
       "      <td>08:20:04</td>\n",
       "      <td>19.371334</td>\n",
       "      <td>-155.033829</td>\n",
       "      <td>1</td>\n",
       "    </tr>\n",
       "  </tbody>\n",
       "</table>\n",
       "</div>"
      ],
      "text/plain": [
       "         date        id_str        user_name  \\\n",
       "0  2018-05-06  8.149151e+17  Hazards_Network   \n",
       "1  2018-05-06  1.864570e+07          syvideo   \n",
       "2  2018-05-06  1.714726e+09        itsnotben   \n",
       "3  2018-05-06  2.918153e+09        eq_map_es   \n",
       "4  2018-05-06  8.149151e+17  Hazards_Network   \n",
       "\n",
       "                                                text      time   latitude  \\\n",
       "0  monday january an earthquake magnitude shook k...  20:30:04  19.078167   \n",
       "1  adventures covering lava flow hilo hi leilani ...  18:18:05  19.473500   \n",
       "2  hawaii round hours airplane earthquakes volcan...  17:38:12  19.431649   \n",
       "3  【 m 】 isla de hawaii hawaii km utc sismo terre...  13:30:49  19.046000   \n",
       "4  monday january an earthquake magnitude shook k...  08:20:04  19.371334   \n",
       "\n",
       "    longitude  interest  \n",
       "0 -155.187667         1  \n",
       "1 -154.920000         1  \n",
       "2 -155.216870         1  \n",
       "3 -155.173000         1  \n",
       "4 -155.033829         1  "
      ]
     },
     "execution_count": 134,
     "metadata": {},
     "output_type": "execute_result"
    }
   ],
   "source": [
    "data = pd.read_csv('DATASET_interests.csv', encoding = 'UTF-8')\n",
    "data.head()"
   ]
  },
  {
   "cell_type": "markdown",
   "metadata": {},
   "source": [
    "### Verificando text duplicados"
   ]
  },
  {
   "cell_type": "code",
   "execution_count": 135,
   "metadata": {
    "scrolled": true
   },
   "outputs": [],
   "source": [
    "spams = data[ data['text'].duplicated(keep = False) ]"
   ]
  },
  {
   "cell_type": "markdown",
   "metadata": {},
   "source": [
    "### Nomes de usuários dos text duplicados e Salvando nomes em disco"
   ]
  },
  {
   "cell_type": "code",
   "execution_count": 136,
   "metadata": {
    "scrolled": true
   },
   "outputs": [
    {
     "data": {
      "text/plain": [
       "{'AprilLButcher',\n",
       " 'Astro_Herv',\n",
       " 'BigEarthquakes',\n",
       " 'CaraMel_HI',\n",
       " 'ChiokeMusic',\n",
       " 'HappyMonkey604',\n",
       " 'Hazards_Network',\n",
       " 'Joechris1988',\n",
       " 'LastQuake',\n",
       " 'MichaelVergona',\n",
       " 'NewEarthquake',\n",
       " 'OhanaSuh1',\n",
       " 'PattyKWilliams',\n",
       " 'Quake_Tracker4',\n",
       " 'QuakesToday',\n",
       " 'RasSparrow',\n",
       " 'RobertJohnCook',\n",
       " 'Travelmonkie',\n",
       " 'TrevorHughes',\n",
       " 'USGSBigQuakes',\n",
       " 'USGSted',\n",
       " 'Verticalviking',\n",
       " 'WanderTheMap',\n",
       " 'WordsOfVikram',\n",
       " 'chowbabylovin',\n",
       " 'clarklittle',\n",
       " 'disasteraware',\n",
       " 'earthquakeBot',\n",
       " 'earthshook',\n",
       " 'educaciondecr',\n",
       " 'eq_map_es',\n",
       " 'eq_map_es2',\n",
       " 'espejomx',\n",
       " 'evee',\n",
       " 'glemaud',\n",
       " 'henrymortega1',\n",
       " 'infogempa',\n",
       " 'itsnotben',\n",
       " 'jaynedmc',\n",
       " 'paparacchi',\n",
       " 'queeraspoetry',\n",
       " 'ralphmalani',\n",
       " 'selphie6999',\n",
       " 'senseividal',\n",
       " 'sstnblcstlns',\n",
       " 'sunflwer1975',\n",
       " 'syvideo',\n",
       " 'tiedyehobo',\n",
       " 'tmj_mau_cosmo',\n",
       " 'tmj_mau_retail'}"
      ]
     },
     "execution_count": 136,
     "metadata": {},
     "output_type": "execute_result"
    }
   ],
   "source": [
    "names = set(spams['user_name'])\n",
    "out = open('names_bots.txt', 'w')\n",
    "for x in names:\n",
    "    out.write(x + ',')\n",
    "out.close()\n",
    "\n",
    "names"
   ]
  },
  {
   "cell_type": "markdown",
   "metadata": {},
   "source": [
    "### Removendo dados duplicados a partir dos nomes de usuários"
   ]
  },
  {
   "cell_type": "code",
   "execution_count": 137,
   "metadata": {
    "scrolled": true
   },
   "outputs": [],
   "source": [
    "for user_name in set(spams['user_name']):\n",
    "    data.drop(data[data['user_name'] == user_name].index, inplace = True)"
   ]
  },
  {
   "cell_type": "markdown",
   "metadata": {},
   "source": [
    "### Removendo na mão"
   ]
  },
  {
   "cell_type": "code",
   "execution_count": 138,
   "metadata": {},
   "outputs": [],
   "source": [
    "data = data[~ data['user_name'].str.contains(\"tmj\")]\n",
    "data = data[~ data['user_name'].str.contains(\"eq_map\")]\n",
    "data = data[~ data['user_name'].str.contains(\"HiloHawaii_\")]\n",
    "data = data[~ data['user_name'].str.contains(\"5oclockbot\")]"
   ]
  },
  {
   "cell_type": "code",
   "execution_count": 139,
   "metadata": {},
   "outputs": [],
   "source": [
    "data.to_csv(\"DATASET_final.csv\",  index = None)"
   ]
  },
  {
   "cell_type": "code",
   "execution_count": null,
   "metadata": {},
   "outputs": [],
   "source": []
  },
  {
   "cell_type": "code",
   "execution_count": null,
   "metadata": {},
   "outputs": [],
   "source": []
  }
 ],
 "metadata": {
  "kernelspec": {
   "display_name": "Python 3",
   "language": "python",
   "name": "python3"
  },
  "language_info": {
   "codemirror_mode": {
    "name": "ipython",
    "version": 3
   },
   "file_extension": ".py",
   "mimetype": "text/x-python",
   "name": "python",
   "nbconvert_exporter": "python",
   "pygments_lexer": "ipython3",
   "version": "3.7.3"
  }
 },
 "nbformat": 4,
 "nbformat_minor": 2
}
